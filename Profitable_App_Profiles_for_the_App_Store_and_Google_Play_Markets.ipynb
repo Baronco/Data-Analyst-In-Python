{
  "nbformat": 4,
  "nbformat_minor": 0,
  "metadata": {
    "kernelspec": {
      "display_name": "Python 3",
      "language": "python",
      "name": "python3"
    },
    "language_info": {
      "codemirror_mode": {
        "name": "ipython",
        "version": 3
      },
      "file_extension": ".py",
      "mimetype": "text/x-python",
      "name": "python",
      "nbconvert_exporter": "python",
      "pygments_lexer": "ipython3",
      "version": "3.4.3"
    },
    "colab": {
      "name": "Profitable App Profiles for the App Store and Google Play Markets.ipynb",
      "provenance": [],
      "collapsed_sections": [],
      "toc_visible": true
    }
  },
  "cells": [
    {
      "cell_type": "markdown",
      "metadata": {
        "id": "vsE7nZFl4CE2",
        "colab_type": "text"
      },
      "source": [
        "# What type of apps are likely to attract more users?.\n",
        "    *this project is about what we're trying to achieve determining which \n",
        "    are  the most popular free apps for users"
      ]
    },
    {
      "cell_type": "markdown",
      "metadata": {
        "id": "1jdyAnBB4CE3",
        "colab_type": "text"
      },
      "source": [
        "Open Data Sets as list"
      ]
    },
    {
      "cell_type": "code",
      "metadata": {
        "id": "XJj_GtjXgLVd",
        "colab_type": "code",
        "colab": {
          "base_uri": "https://localhost:8080/",
          "height": 121
        },
        "outputId": "a14361f9-cb8c-4bf1-f83c-d14b15c601a7"
      },
      "source": [
        "from google.colab import drive\n",
        "drive.mount('/content/drive')"
      ],
      "execution_count": null,
      "outputs": [
        {
          "output_type": "stream",
          "text": [
            "Go to this URL in a browser: https://accounts.google.com/o/oauth2/auth?client_id=947318989803-6bn6qk8qdgf4n4g3pfee6491hc0brc4i.apps.googleusercontent.com&redirect_uri=urn%3aietf%3awg%3aoauth%3a2.0%3aoob&response_type=code&scope=email%20https%3a%2f%2fwww.googleapis.com%2fauth%2fdocs.test%20https%3a%2f%2fwww.googleapis.com%2fauth%2fdrive%20https%3a%2f%2fwww.googleapis.com%2fauth%2fdrive.photos.readonly%20https%3a%2f%2fwww.googleapis.com%2fauth%2fpeopleapi.readonly\n",
            "\n",
            "Enter your authorization code:\n",
            "··········\n",
            "Mounted at /content/drive\n"
          ],
          "name": "stdout"
        }
      ]
    },
    {
      "cell_type": "code",
      "metadata": {
        "id": "FZN4VX-q4CE4",
        "colab_type": "code",
        "colab": {}
      },
      "source": [
        "from csv import reader\n",
        "list1=open('/content/drive/My Drive/Data Analyst In Python/Modulo 1: Fundamentos para ciencia de datos/PROYECTO_MODULO_1/AppleStore.csv')\n",
        "list2=open('/content/drive/My Drive/Data Analyst In Python/Modulo 1: Fundamentos para ciencia de datos/PROYECTO_MODULO_1/googleplaystore.csv')\n",
        "\n",
        "Apple=list(reader(list1))\n",
        "Google=list(reader(list2))\n",
        "\n",
        "AppleHead=Apple[0]\n",
        "Apple=Apple[1:]\n",
        "\n",
        "GoogleHead=Google[0]\n",
        "Google=Google[1:]"
      ],
      "execution_count": null,
      "outputs": []
    },
    {
      "cell_type": "markdown",
      "metadata": {
        "id": "xgr3_S294CE9",
        "colab_type": "text"
      },
      "source": [
        "**Rows & Columns from each Data Sets**\n",
        "\n",
        "dataset-->Lista\n",
        "\n",
        "start-->Fila_0\n",
        "\n",
        "end-->Fila_n\n",
        "\n",
        "rows_and_columns-->True to show the dimentions of the list"
      ]
    },
    {
      "cell_type": "code",
      "metadata": {
        "id": "VB60B-vy4CE9",
        "colab_type": "code",
        "colab": {}
      },
      "source": [
        "def explore_data(dataset, start, end, rows_and_columns=False):\n",
        "    dataset_slice = dataset[start:end]    \n",
        "    if rows_and_columns==False:\n",
        "        for row in dataset_slice:\n",
        "            print(row)\n",
        "            \n",
        "            \n",
        "    if rows_and_columns:\n",
        "        print('Number of rows:', len(dataset))\n",
        "        print('Number of columns:', len(dataset[0]))"
      ],
      "execution_count": null,
      "outputs": []
    },
    {
      "cell_type": "markdown",
      "metadata": {
        "id": "3AaL-Mhw4CFA",
        "colab_type": "text"
      },
      "source": [
        "**Printing first 2 rows of each list**\n",
        "*for the analysis I'd use column[4] (Price 0.0 = free) and column[5] (rating count total), and column[11] (genre), track name all this for Android apps\n",
        "\n",
        "*for Apple column[7] (price 0.0 = free), column[1] (Category), app and column[5] (install)"
      ]
    },
    {
      "cell_type": "code",
      "metadata": {
        "id": "flgcZ2fB4CFA",
        "colab_type": "code",
        "colab": {
          "base_uri": "https://localhost:8080/",
          "height": 622
        },
        "outputId": "bc8bd786-f20a-4006-8406-e266a58859ec"
      },
      "source": [
        "print('Apple:\\n')\n",
        "print(explore_data(AppleHead,0,None),'\\n')\n",
        "print('Google:\\n')\n",
        "print(explore_data(GoogleHead,0,None))"
      ],
      "execution_count": null,
      "outputs": [
        {
          "output_type": "stream",
          "text": [
            "Apple:\n",
            "\n",
            "id\n",
            "track_name\n",
            "size_bytes\n",
            "currency\n",
            "price\n",
            "rating_count_tot\n",
            "rating_count_ver\n",
            "user_rating\n",
            "user_rating_ver\n",
            "ver\n",
            "cont_rating\n",
            "prime_genre\n",
            "sup_devices.num\n",
            "ipadSc_urls.num\n",
            "lang.num\n",
            "vpp_lic\n",
            "None \n",
            "\n",
            "Google:\n",
            "\n",
            "App\n",
            "Category\n",
            "Rating\n",
            "Reviews\n",
            "Size\n",
            "Installs\n",
            "Type\n",
            "Price\n",
            "Content Rating\n",
            "Genres\n",
            "Last Updated\n",
            "Current Ver\n",
            "Android Ver\n",
            "None\n"
          ],
          "name": "stdout"
        }
      ]
    },
    {
      "cell_type": "markdown",
      "metadata": {
        "id": "ayPw89Zt4CFE",
        "colab_type": "text"
      },
      "source": [
        "**Dimention of each list**"
      ]
    },
    {
      "cell_type": "code",
      "metadata": {
        "id": "jWAYuejW4CFF",
        "colab_type": "code",
        "colab": {
          "base_uri": "https://localhost:8080/",
          "height": 118
        },
        "outputId": "c163eeb6-6a7b-47e8-ce23-3dd17fb11b4f"
      },
      "source": [
        "print(explore_data(Apple,0,None,True))\n",
        "print(explore_data(Google,0,None,True))"
      ],
      "execution_count": null,
      "outputs": [
        {
          "output_type": "stream",
          "text": [
            "Number of rows: 7197\n",
            "Number of columns: 16\n",
            "None\n",
            "Number of rows: 10841\n",
            "Number of columns: 13\n",
            "None\n"
          ],
          "name": "stdout"
        }
      ]
    },
    {
      "cell_type": "markdown",
      "metadata": {
        "id": "LgOJUwhG4CFI",
        "colab_type": "text"
      },
      "source": [
        "# DATA CLEANING \n",
        "\n",
        "Removing or correcting wrong data, removing duplicate data, and modifying the data to fit the purpose of our analysis.\n",
        "\n",
        "**We only build apps that are free to download and install only for English-speaking audiencie, then we need to:**\n",
        "\n",
        "*Remove non-English apps like 爱奇艺PPS -《欢乐颂2》电视剧热播.\n",
        "\n",
        "\n",
        "*Remove apps that aren't free.\n",
        "\n"
      ]
    },
    {
      "cell_type": "code",
      "metadata": {
        "id": "r-80fOns4CFI",
        "colab_type": "code",
        "colab": {
          "base_uri": "https://localhost:8080/",
          "height": 34
        },
        "outputId": "1afd0efe-4320-4466-a5f6-0a3cc5c3b3a8"
      },
      "source": [
        "print(len(Google[10472]))\n",
        "#Efectivamente la entrada 10472 debería tener un ancho de 13 pero es de 12,\n",
        "#lo cual confirma lo que menciona el comentario de kaggle"
      ],
      "execution_count": null,
      "outputs": [
        {
          "output_type": "stream",
          "text": [
            "12\n"
          ],
          "name": "stdout"
        }
      ]
    },
    {
      "cell_type": "markdown",
      "metadata": {
        "id": "t8QtzlNf4CFK",
        "colab_type": "text"
      },
      "source": [
        "**Procedemos a eliminar esa fila de datos del data set Google**"
      ]
    },
    {
      "cell_type": "code",
      "metadata": {
        "id": "DxZtmUAV4CFL",
        "colab_type": "code",
        "colab": {}
      },
      "source": [
        "del(Google[10472])\n",
        "#ejecutar solo una  vez porque o sino se seguirá eliminando la entrada 10472"
      ],
      "execution_count": null,
      "outputs": []
    },
    {
      "cell_type": "markdown",
      "metadata": {
        "id": "l7-Jv4rU4CFN",
        "colab_type": "text"
      },
      "source": [
        "# Duplicate Data Android apps"
      ]
    },
    {
      "cell_type": "code",
      "metadata": {
        "id": "VIXQPaYC4CFO",
        "colab_type": "code",
        "colab": {
          "base_uri": "https://localhost:8080/",
          "height": 154
        },
        "outputId": "57b927e8-abfd-47f2-feed-e782f08e563b"
      },
      "source": [
        "GoogleDuplicate=[]\n",
        "GoogleUnique=[]\n",
        "\n",
        "for app in Google:\n",
        "    name=app[0]\n",
        "    if name in GoogleUnique:\n",
        "        GoogleDuplicate.append(name)\n",
        "    else:\n",
        "        GoogleUnique.append(name)\n",
        "print('Total Android apps: ',len(Google),'\\n')        \n",
        "print('#GoogleDuplicate: ',GoogleDuplicate[0:5],'\\n','Duplicate Data: ',len(GoogleDuplicate),'\\n')\n",
        "print('#GoogleUnique: ',GoogleUnique[0:5],'\\n','Unique Data: ',len(GoogleUnique))\n"
      ],
      "execution_count": null,
      "outputs": [
        {
          "output_type": "stream",
          "text": [
            "Total Android apps:  10840 \n",
            "\n",
            "#GoogleDuplicate:  ['Quick PDF Scanner + OCR FREE', 'Box', 'Google My Business', 'ZOOM Cloud Meetings', 'join.me - Simple Meetings'] \n",
            " Duplicate Data:  1181 \n",
            "\n",
            "#GoogleUnique:  ['Photo Editor & Candy Camera & Grid & ScrapBook', 'Coloring book moana', 'U Launcher Lite – FREE Live Cool Themes, Hide Apps', 'Sketch - Draw & Paint', 'Pixel Draw - Number Art Coloring Book'] \n",
            " Unique Data:  9659\n"
          ],
          "name": "stdout"
        }
      ]
    },
    {
      "cell_type": "markdown",
      "metadata": {
        "id": "IhRvQxVx4CFP",
        "colab_type": "text"
      },
      "source": [
        "# Duplicate Data Apple apps"
      ]
    },
    {
      "cell_type": "code",
      "metadata": {
        "id": "DSVlA_gJ4CFQ",
        "colab_type": "code",
        "colab": {
          "base_uri": "https://localhost:8080/",
          "height": 134
        },
        "outputId": "b6728df8-022e-43b0-dc5c-ea5bb17f55cc"
      },
      "source": [
        "AppleDuplicate=[]\n",
        "AppleUnique=[]\n",
        "\n",
        "for app in Apple:\n",
        "    name=app[1]\n",
        "    if name in AppleUnique:\n",
        "        AppleDuplicate.append(name)\n",
        "    else:\n",
        "        AppleUnique.append(name)\n",
        "print('Total Apple apps: ',len(Apple),'\\n')        \n",
        "print('#AppleDuplicate: ',AppleDuplicate[0:5],'\\n','Duplicate Data: ',len(AppleDuplicate),'\\n')\n",
        "print('#AppleUnique: ',AppleUnique[0:5],'\\n','Unique Data: ',len(AppleUnique))\n"
      ],
      "execution_count": null,
      "outputs": [
        {
          "output_type": "stream",
          "text": [
            "Total Apple apps:  7197 \n",
            "\n",
            "#AppleDuplicate:  ['Mannequin Challenge', 'VR Roller Coaster'] \n",
            " Duplicate Data:  2 \n",
            "\n",
            "#AppleUnique:  ['Facebook', 'Instagram', 'Clash of Clans', 'Temple Run', 'Pandora - Music & Radio'] \n",
            " Unique Data:  7195\n"
          ],
          "name": "stdout"
        }
      ]
    },
    {
      "cell_type": "markdown",
      "metadata": {
        "id": "RuI_f2n_4CFT",
        "colab_type": "text"
      },
      "source": [
        "**I think that I can't delete randomly data because could delete recent information. Therefore I going to delete data duplicate older.**\n",
        "Expected data for each data set is:"
      ]
    },
    {
      "cell_type": "code",
      "metadata": {
        "id": "7UfUALLm4CFT",
        "colab_type": "code",
        "colab": {
          "base_uri": "https://localhost:8080/",
          "height": 50
        },
        "outputId": "22379560-134d-42d8-a086-e37bf74aa420"
      },
      "source": [
        "print('Google Apps Expected data: ',len(Google)-len(GoogleDuplicate))\n",
        "print('Apple Apps Expected data: ',len(Apple)-len(AppleDuplicate))"
      ],
      "execution_count": null,
      "outputs": [
        {
          "output_type": "stream",
          "text": [
            "Google Apps Expected data:  9659\n",
            "Apple Apps Expected data:  7195\n"
          ],
          "name": "stdout"
        }
      ]
    },
    {
      "cell_type": "markdown",
      "metadata": {
        "id": "AAcQE3qx4CFW",
        "colab_type": "text"
      },
      "source": [
        "# Eliminate Duplicate Data from Android apps\n",
        "*I'd use the reviews for this task"
      ]
    },
    {
      "cell_type": "code",
      "metadata": {
        "id": "3VSF5QE84CFW",
        "colab_type": "code",
        "colab": {
          "base_uri": "https://localhost:8080/",
          "height": 50
        },
        "outputId": "4a054c50-a7e0-4cd7-e7ec-782dc42a8da8"
      },
      "source": [
        "reviews_max={}\n",
        "for app in Google:\n",
        "    name=app[0]\n",
        "    n_reviews=float(app[3])\n",
        "    if name in reviews_max and reviews_max[name] < n_reviews:\n",
        "        reviews_max[name]=n_reviews\n",
        "    elif name not in reviews_max:\n",
        "        reviews_max[name]=n_reviews\n",
        "\n",
        "Areviews_max={}\n",
        "for app in Apple:\n",
        "    name=app[1]\n",
        "    n_reviews=float(app[5])\n",
        "    if name in Areviews_max and Areviews_max[name] < n_reviews:\n",
        "        Areviews_max[name]=n_reviews\n",
        "    elif name not in Areviews_max:\n",
        "        Areviews_max[name]=n_reviews\n",
        "        \n",
        "print('criterion: reviews->Final Google data length: ',len(reviews_max))\n",
        "print('criterion: rating_count_tot->Final Apple data length: ',len(Areviews_max))     \n",
        "    \n"
      ],
      "execution_count": null,
      "outputs": [
        {
          "output_type": "stream",
          "text": [
            "criterion: reviews->Final Google data length:  9659\n",
            "criterion: rating_count_tot->Final Apple data length:  7195\n"
          ],
          "name": "stdout"
        }
      ]
    },
    {
      "cell_type": "code",
      "metadata": {
        "id": "YEJS1_Pi4CFY",
        "colab_type": "code",
        "colab": {
          "base_uri": "https://localhost:8080/",
          "height": 50
        },
        "outputId": "035db7be-2197-45ed-f964-efb9871cb167"
      },
      "source": [
        "android_clean=[]\n",
        "already_added=[]\n",
        "\n",
        "for app in Google:\n",
        "    name=app[0]\n",
        "    n_reviews=float(app[3])\n",
        "    if n_reviews == reviews_max[name] and name not in already_added:\n",
        "        android_clean.append(app)\n",
        "        already_added.append(name)\n",
        "        \n",
        "\n",
        "\n",
        "ios_clean=[]\n",
        "Aalready_added=[]\n",
        "\n",
        "for app in Apple:\n",
        "    name=app[1]\n",
        "    n_reviews=float(app[5])\n",
        "    if n_reviews == Areviews_max[name] and name not in Aalready_added:\n",
        "        ios_clean.append(app)\n",
        "        Aalready_added.append(name)\n",
        "        \n",
        "print('Google Data clean: ',len(android_clean))\n",
        "print('Apple Data clean: ',len(ios_clean))        \n",
        "        "
      ],
      "execution_count": null,
      "outputs": [
        {
          "output_type": "stream",
          "text": [
            "Google Data clean:  9659\n",
            "Apple Data clean:  7195\n"
          ],
          "name": "stdout"
        }
      ]
    },
    {
      "cell_type": "markdown",
      "metadata": {
        "id": "oNivQUBH4CFa",
        "colab_type": "text"
      },
      "source": [
        "# Delete non English apps\n",
        "**English text are all in the range 0 to 127, according to the ASCII** "
      ]
    },
    {
      "cell_type": "code",
      "metadata": {
        "id": "AU2NRdtR4CFa",
        "colab_type": "code",
        "colab": {}
      },
      "source": [
        "#Detecting non english apps\n",
        "def NoEnglish(nameApp):\n",
        "    nonEnglish=0\n",
        "    for character in nameApp:\n",
        "        if ord(character)>127:\n",
        "            nonEnglish+=1\n",
        "    #Si hay más de 3 caracteres > 127 correponde a muy probable de no ser inglés        \n",
        "    if nonEnglish>=3:\n",
        "        return False\n",
        "    else:\n",
        "        return True       "
      ],
      "execution_count": null,
      "outputs": []
    },
    {
      "cell_type": "code",
      "metadata": {
        "id": "oj7ylUg-4CFc",
        "colab_type": "code",
        "colab": {
          "base_uri": "https://localhost:8080/",
          "height": 134
        },
        "outputId": "a67d54e6-9adf-4060-ac22-d199c2494e42"
      },
      "source": [
        "print(NoEnglish('Instagram'))\n",
        "print(NoEnglish('爱奇艺PPS -《欢乐颂2》电视剧热播'))\n",
        "print(NoEnglish('Docs To Go™ Free Office Suite'))\n",
        "print(NoEnglish('Instachat 😜'))\n",
        "print('\\nFalse: the app name is probably non-English, \\nTrue: probably english')"
      ],
      "execution_count": null,
      "outputs": [
        {
          "output_type": "stream",
          "text": [
            "True\n",
            "False\n",
            "True\n",
            "True\n",
            "\n",
            "False: the app name is probably non-English, \n",
            "True: probably english\n"
          ],
          "name": "stdout"
        }
      ]
    },
    {
      "cell_type": "markdown",
      "metadata": {
        "id": "eSxd9_VL4CFe",
        "colab_type": "text"
      },
      "source": [
        "**The Same but for each list**"
      ]
    },
    {
      "cell_type": "code",
      "metadata": {
        "id": "co5afist4CFe",
        "colab_type": "code",
        "colab": {}
      },
      "source": [
        "def NoEnglishApp(list,indexName):\n",
        "    nonEnglish=0\n",
        "    English=[]\n",
        "    nonEng=[]\n",
        "    \n",
        "    for app in list:\n",
        "        name=app[indexName]\n",
        "        \n",
        "        for character in name:\n",
        "            if ord(character)>127:\n",
        "                nonEnglish+=1\n",
        "            \n",
        "        if nonEnglish >= 3:\n",
        "            nonEng.append(name)\n",
        "        elif nonEnglish < 3:\n",
        "            English.append(app)\n",
        "            \n",
        "        \n",
        "        nonEnglish=0\n",
        "    \n",
        "    if len(nonEng)>0:\n",
        "        return nonEng,English\n",
        "    elif len(nonEng)==0:\n",
        "        print('All data English')\n",
        "        return English      \n"
      ],
      "execution_count": null,
      "outputs": []
    },
    {
      "cell_type": "code",
      "metadata": {
        "id": "ZYBtopVS4CFg",
        "colab_type": "code",
        "colab": {
          "base_uri": "https://localhost:8080/",
          "height": 101
        },
        "outputId": "78cf8a6e-933d-451c-bd73-00139663514b"
      },
      "source": [
        "GoogleNonEnglish,AndroidEng=NoEnglishApp(android_clean,0)\n",
        "AppleNonEnglish,iosEng=NoEnglishApp(ios_clean,1)\n",
        "\n",
        "print('Non English android apps: ',len(GoogleNonEnglish))\n",
        "print('Non English ios apps: ',len(AppleNonEnglish))\n",
        "\n",
        "print('\\nAndroid Apps Expected: ',len(AndroidEng))\n",
        "print('Ios Apps Expected: ',len(iosEng))"
      ],
      "execution_count": null,
      "outputs": [
        {
          "output_type": "stream",
          "text": [
            "Non English android apps:  62\n",
            "Non English ios apps:  1042\n",
            "\n",
            "Android Apps Expected:  9597\n",
            "Ios Apps Expected:  6153\n"
          ],
          "name": "stdout"
        }
      ]
    },
    {
      "cell_type": "markdown",
      "metadata": {
        "id": "f4VTSxc34CFi",
        "colab_type": "text"
      },
      "source": [
        "# Select only Free apps"
      ]
    },
    {
      "cell_type": "code",
      "metadata": {
        "id": "vjZEc3Ju4CFi",
        "colab_type": "code",
        "colab": {}
      },
      "source": [
        "freeAndroid=[]\n",
        "freeios=[]\n",
        "\n",
        "for app in AndroidEng:\n",
        "    if app[6]=='Free':\n",
        "        freeAndroid.append(app)\n",
        "\n",
        "for app in iosEng:\n",
        "    if float(app[4])==0:\n",
        "        freeios.append(app)\n"
      ],
      "execution_count": null,
      "outputs": []
    },
    {
      "cell_type": "code",
      "metadata": {
        "id": "r8BulbuC4CFl",
        "colab_type": "code",
        "colab": {
          "base_uri": "https://localhost:8080/",
          "height": 50
        },
        "outputId": "0df79524-d925-4427-b834-e90b4f669dbe"
      },
      "source": [
        "print('Free ios apps: ',len(freeios))\n",
        "print('Free android apps: ',len(freeAndroid))"
      ],
      "execution_count": null,
      "outputs": [
        {
          "output_type": "stream",
          "text": [
            "Free ios apps:  3201\n",
            "Free android apps:  8847\n"
          ],
          "name": "stdout"
        }
      ]
    },
    {
      "cell_type": "markdown",
      "metadata": {
        "id": "fJjgwkHQ4CFn",
        "colab_type": "text"
      },
      "source": [
        "To minimize risks and overhead, our validation strategy for an app idea is comprised of three steps:\n",
        "\n",
        "*Build a minimal Android version of the app, and add it to Google Play.\n",
        "\n",
        "*If the app has a good response from users, we develop it further.\n",
        "\n",
        "*If the app is profitable after six months, we build an iOS version of the app and add it to the App Store."
      ]
    },
    {
      "cell_type": "markdown",
      "metadata": {
        "id": "6ukzwBmK4CFn",
        "colab_type": "text"
      },
      "source": [
        "# Frequency tables\n",
        "**Most common genres in each market.**\n",
        "\n",
        "For android column[-5] genre and column [1] category\n",
        "\n",
        "For Apple column[-5]"
      ]
    },
    {
      "cell_type": "code",
      "metadata": {
        "id": "GWxBQiiD4CFn",
        "colab_type": "code",
        "colab": {}
      },
      "source": [
        "def freq_table(dataset,index):\n",
        "    freq={}\n",
        "    for app in dataset:\n",
        "        category=app[index]\n",
        "        if category in freq:\n",
        "            freq[str(category)]+=1\n",
        "        else:\n",
        "            freq[str(category)]=1\n",
        "    \n",
        "    for key in freq:\n",
        "        freq[key]/=len(dataset)\n",
        "        freq[key]*=100\n",
        "        freq[key]=round(freq[key],2)\n",
        "    \n",
        "    return freq"
      ],
      "execution_count": null,
      "outputs": []
    },
    {
      "cell_type": "markdown",
      "metadata": {
        "id": "0y_uOupa4CFp",
        "colab_type": "text"
      },
      "source": [
        "** Data is transformed in a List of Tuples because order lis=[ (tuple[key_0],key_0),........,(tuple[key _n],key _n)] allow use easily and correctly funtion sorted(list,False) , True for descending order**"
      ]
    },
    {
      "cell_type": "code",
      "metadata": {
        "id": "Ylv9rb484CFp",
        "colab_type": "code",
        "colab": {}
      },
      "source": [
        "def display_table(dataset, index):\n",
        "    table = freq_table(dataset, index)\n",
        "    table_display = []\n",
        "    for key in table:\n",
        "        key_val_as_tuple = (table[key], key)\n",
        "        table_display.append(key_val_as_tuple)\n",
        "\n",
        "    table_sorted = sorted(table_display, reverse = True)\n",
        "    for entry in table_sorted:\n",
        "        print(entry[1], ':', entry[0],'%')"
      ],
      "execution_count": null,
      "outputs": []
    },
    {
      "cell_type": "code",
      "metadata": {
        "id": "JdNrAn9K4CFs",
        "colab_type": "code",
        "colab": {
          "base_uri": "https://localhost:8080/",
          "height": 1000
        },
        "outputId": "241e3a0c-1ae5-45ae-a028-9fb6e490e50e"
      },
      "source": [
        "print('\\n\\tAndroid by Genres:')\n",
        "freqAndroidGenres=display_table(freeAndroid,-5)\n",
        "print('\\n\\tAndroid by Category:')\n",
        "freqAndroidCategory=display_table(freeAndroid,1)\n",
        "print('\\n\\tApple by Category:\\n')\n",
        "freqApple=display_table(freeios,-5)"
      ],
      "execution_count": null,
      "outputs": [
        {
          "output_type": "stream",
          "text": [
            "\n",
            "\tAndroid by Genres:\n",
            "Everyone : 81.44 %\n",
            "Teen : 11.07 %\n",
            "Mature 17+ : 4.19 %\n",
            "Everyone 10+ : 3.24 %\n",
            "Adults only 18+ : 0.03 %\n",
            "Unrated : 0.02 %\n",
            "\n",
            "\tAndroid by Category:\n",
            "FAMILY : 18.93 %\n",
            "GAME : 9.7 %\n",
            "TOOLS : 8.45 %\n",
            "BUSINESS : 4.6 %\n",
            "PRODUCTIVITY : 3.9 %\n",
            "LIFESTYLE : 3.89 %\n",
            "FINANCE : 3.71 %\n",
            "MEDICAL : 3.54 %\n",
            "SPORTS : 3.39 %\n",
            "PERSONALIZATION : 3.32 %\n",
            "COMMUNICATION : 3.23 %\n",
            "HEALTH_AND_FITNESS : 3.09 %\n",
            "PHOTOGRAPHY : 2.95 %\n",
            "NEWS_AND_MAGAZINES : 2.8 %\n",
            "SOCIAL : 2.67 %\n",
            "TRAVEL_AND_LOCAL : 2.34 %\n",
            "SHOPPING : 2.25 %\n",
            "BOOKS_AND_REFERENCE : 2.14 %\n",
            "DATING : 1.87 %\n",
            "VIDEO_PLAYERS : 1.8 %\n",
            "MAPS_AND_NAVIGATION : 1.39 %\n",
            "FOOD_AND_DRINK : 1.24 %\n",
            "EDUCATION : 1.16 %\n",
            "ENTERTAINMENT : 0.96 %\n",
            "LIBRARIES_AND_DEMO : 0.94 %\n",
            "AUTO_AND_VEHICLES : 0.93 %\n",
            "HOUSE_AND_HOME : 0.8 %\n",
            "WEATHER : 0.79 %\n",
            "EVENTS : 0.71 %\n",
            "PARENTING : 0.66 %\n",
            "ART_AND_DESIGN : 0.64 %\n",
            "COMICS : 0.61 %\n",
            "BEAUTY : 0.6 %\n",
            "\n",
            "\tApple by Category:\n",
            "\n",
            "Games : 58.23 %\n",
            "Entertainment : 7.84 %\n",
            "Photo & Video : 5.0 %\n",
            "Education : 3.69 %\n",
            "Social Networking : 3.31 %\n",
            "Shopping : 2.59 %\n",
            "Utilities : 2.47 %\n",
            "Sports : 2.16 %\n",
            "Music : 2.06 %\n",
            "Health & Fitness : 2.03 %\n",
            "Productivity : 1.75 %\n",
            "Lifestyle : 1.56 %\n",
            "News : 1.34 %\n",
            "Travel : 1.25 %\n",
            "Finance : 1.09 %\n",
            "Weather : 0.87 %\n",
            "Food & Drink : 0.81 %\n",
            "Reference : 0.53 %\n",
            "Business : 0.53 %\n",
            "Book : 0.37 %\n",
            "Navigation : 0.19 %\n",
            "Medical : 0.19 %\n",
            "Catalogs : 0.12 %\n"
          ],
          "name": "stdout"
        }
      ]
    }
  ]
}