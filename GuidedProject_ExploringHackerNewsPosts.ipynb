{
  "nbformat": 4,
  "nbformat_minor": 0,
  "metadata": {
    "kernelspec": {
      "display_name": "Python 3",
      "language": "python",
      "name": "python3"
    },
    "language_info": {
      "codemirror_mode": {
        "name": "ipython",
        "version": 3
      },
      "file_extension": ".py",
      "mimetype": "text/x-python",
      "name": "python",
      "nbconvert_exporter": "python",
      "pygments_lexer": "ipython3",
      "version": "3.4.3"
    },
    "colab": {
      "name": "GuidedProject_ExploringHackerNewsPosts.ipynb",
      "provenance": [],
      "collapsed_sections": []
    }
  },
  "cells": [
    {
      "cell_type": "markdown",
      "metadata": {
        "id": "N37P-fXDt6qo",
        "colab_type": "text"
      },
      "source": [
        "# Data set of submissions to popular technology site Hacker News:\n",
        "Hacker News is a site started by the startup incubator Y Combinator, where user-submitted stories (known as \"posts\") are voted and commented upon, similar to reddit. Hacker News is extremely popular in technology and startup circles, and posts that make it to the top of Hacker News' listings can get hundreds of thousands of visitors as a result.\n",
        "\n",
        "For the analysis, the dataset from: [Hacker News Posts](https://www.kaggle.com/hacker-news/hacker-news-posts)\n",
        "\n",
        "**Descriptions of the columns:**\n",
        "\n",
        ">id:* The unique identifier from Hacker News for the post*\n",
        "\n",
        ">title:* The title of the post*\n",
        "\n",
        ">url:* The URL that the posts links to, if it the post has a URL*\n",
        "\n",
        ">num_points:* The number of points the post acquired, calculated as the total number of upvotes minus the total number of downvotes*\n",
        "\n",
        ">num_comments:* The number of comments that were made on the post*\n",
        "\n",
        ">author:* The username of the person who submitted the post*\n",
        "\n",
        ">created_at:* The date and time at which the post was submitted*"
      ]
    },
    {
      "cell_type": "markdown",
      "metadata": {
        "collapsed": true,
        "id": "vDZmOOPLt6qq",
        "colab_type": "text"
      },
      "source": [
        "# What interest us from dataset?\n",
        "We're specifically interested in posts whose **titles** begin with either **Ask HN** or **Show HN**. Users submit **Ask HN** posts to ask the Hacker News community a **specific question**. Likewise, users submit **Show HN** posts to show the Hacker News community a project, product, or **just generally something interesting**."
      ]
    },
    {
      "cell_type": "markdown",
      "metadata": {
        "id": "WJjBaDvYt6qr",
        "colab_type": "text"
      },
      "source": [
        "# Study target:\n",
        "1) Do Ask HN or Show HN receive more comments on average?\n",
        "\n",
        "2) Do posts created at a certain time receive more comments on average?\n"
      ]
    },
    {
      "cell_type": "markdown",
      "metadata": {
        "id": "84HF6U2zt6qt",
        "colab_type": "text"
      },
      "source": [
        "**It open and read the file \"hacker_news.csv\":**"
      ]
    },
    {
      "cell_type": "code",
      "metadata": {
        "id": "tAFUp2k9t6qw",
        "colab_type": "code",
        "colab": {},
        "outputId": "ea376226-0cbb-4aed-8b7d-47567469f620"
      },
      "source": [
        "from csv import reader\n",
        "import datetime as dt\n",
        "\n",
        "hn=list(reader(open(\"hacker_news.csv\")))\n",
        "hn_head=hn[0]\n",
        "hn=hn[1:]\n",
        "\n",
        "print(hn[0:5])\n",
        "print(\"\\nTotal rows without head row: \",len(hn))"
      ],
      "execution_count": null,
      "outputs": [
        {
          "output_type": "stream",
          "text": [
            "[['12224879', 'Interactive Dynamic Video', 'http://www.interactivedynamicvideo.com/', '386', '52', 'ne0phyte', '8/4/2016 11:52'], ['10975351', 'How to Use Open Source and Shut the Fuck Up at the Same Time', 'http://hueniverse.com/2016/01/26/how-to-use-open-source-and-shut-the-fuck-up-at-the-same-time/', '39', '10', 'josep2', '1/26/2016 19:30'], ['11964716', \"Florida DJs May Face Felony for April Fools' Water Joke\", 'http://www.thewire.com/entertainment/2013/04/florida-djs-april-fools-water-joke/63798/', '2', '1', 'vezycash', '6/23/2016 22:20'], ['11919867', 'Technology ventures: From Idea to Enterprise', 'https://www.amazon.com/Technology-Ventures-Enterprise-Thomas-Byers/dp/0073523429', '3', '1', 'hswarna', '6/17/2016 0:01'], ['10301696', 'Note by Note: The Making of Steinway L1037 (2007)', 'http://www.nytimes.com/2007/11/07/movies/07stein.html?_r=0', '8', '2', 'walterbell', '9/30/2015 4:12']]\n",
            "\n",
            "Total rows without head row:  20100\n"
          ],
          "name": "stdout"
        }
      ]
    },
    {
      "cell_type": "markdown",
      "metadata": {
        "id": "ir7pdxc0t6q5",
        "colab_type": "text"
      },
      "source": [
        "**Methods to separate posts beginning with Ask HN and Show HN (and case variations) into two different lists:**"
      ]
    },
    {
      "cell_type": "code",
      "metadata": {
        "id": "GmvBPe9Ht6q7",
        "colab_type": "code",
        "colab": {},
        "outputId": "167674d9-1909-435a-9075-65a8163fd425"
      },
      "source": [
        "ask_post=[]\n",
        "show_post=[]\n",
        "other_post=[]\n",
        "\n",
        "for row in hn:\n",
        "    title=row[1]\n",
        "    title=title.capitalize()\n",
        "    row[1]=title\n",
        "    if title.startswith(\"Ask hn\"):\n",
        "        ask_post.append(row)\n",
        "    elif title.startswith(\"Show hn\"):\n",
        "        show_post.append(row)\n",
        "    else:\n",
        "        other_post.append(row)\n",
        "        \n",
        "print(\"Number of ask post: \",len(ask_post),\" this corresponds to \",round(100*(len(ask_post)/len(hn)),2),\"% of the total rows\"),\n",
        "print(\"Number of show post: \",len(show_post),\" this corresponds to \",round(100*(len(show_post)/len(hn)),2),\"% of the total rows\")\n",
        "print(\"Number of other post: \",len(other_post),\" this corresponds to \",round(100*(len(other_post)/len(hn)),2),\"% of the total rows\")\n"
      ],
      "execution_count": null,
      "outputs": [
        {
          "output_type": "stream",
          "text": [
            "Number of ask post:  1744  this corresponds to  8.68 % of the total rows\n",
            "Number of show post:  1162  this corresponds to  5.78 % of the total rows\n",
            "Number of other post:  17194  this corresponds to  85.54 % of the total rows\n"
          ],
          "name": "stdout"
        }
      ]
    },
    {
      "cell_type": "markdown",
      "metadata": {
        "id": "g60DwTxPt6rE",
        "colab_type": "text"
      },
      "source": [
        "I decided use the method str.capitalize() for each title has the same format, Thus avoiding don't leave out rows that has not comply with the conditionals."
      ]
    },
    {
      "cell_type": "markdown",
      "metadata": {
        "id": "c53ZQ9gGt6rF",
        "colab_type": "text"
      },
      "source": [
        "# Total number of comments and average comments in each ask posts and show post"
      ]
    },
    {
      "cell_type": "code",
      "metadata": {
        "id": "PxChsvDAt6rG",
        "colab_type": "code",
        "colab": {},
        "outputId": "b9e618c5-04c8-4564-ecbe-1027cfdc3054"
      },
      "source": [
        "#num_comments corresponding to index 4\n",
        "total_ask_comments=0\n",
        "total_show_comments=0\n",
        "\n",
        "for row in ask_post:\n",
        "    num_comments=int(row[4])\n",
        "    total_ask_comments+=num_comments\n",
        "    \n",
        "for row in show_post:\n",
        "    num_comments=int(row[4])\n",
        "    total_show_comments+=num_comments\n",
        "\n",
        "avg_ask_comments=round(total_ask_comments/len(ask_post),2)\n",
        "avg_show_comments=round(total_show_comments/len(ask_post),2)\n",
        "\n",
        "print(\"Average coment in ask post: \",avg_ask_comments)\n",
        "print(\"Average coment in show post: \",avg_show_comments)\n",
        "\n"
      ],
      "execution_count": null,
      "outputs": [
        {
          "output_type": "stream",
          "text": [
            "Average coment in ask post:  14.04\n",
            "Average coment in show post:  6.87\n"
          ],
          "name": "stdout"
        }
      ]
    },
    {
      "cell_type": "markdown",
      "metadata": {
        "id": "8CwvPFxUt6rK",
        "colab_type": "text"
      },
      "source": [
        "Of the total post (20,100) the 8.68 % correspond to ask post and  the 5.78% correspond to show post, rest correspond to other post.\n",
        "\n",
        "Ask post  receive aproximatly **14 average coments** and Show post receive **7 average coments** respectively. \n",
        "\n",
        "The **ask post** are more recurrent than **show post** and receive more average comments."
      ]
    },
    {
      "cell_type": "markdown",
      "metadata": {
        "id": "BbGhWcTdt6rL",
        "colab_type": "text"
      },
      "source": [
        "# Ask posts and Show post created at a certain time are more likely to attract comments.\n",
        "**Format time m/d/y Hour:min (24 hours)**"
      ]
    },
    {
      "cell_type": "markdown",
      "metadata": {
        "id": "33gXXZ-It6rM",
        "colab_type": "text"
      },
      "source": [
        "## Ask_post\n",
        "**counts_by_hour:** contains the number of ask posts created during each hour of the day.\n",
        "\n",
        "**comments_by_hour:** contains the corresponding number of comments ask posts created at each hour received."
      ]
    },
    {
      "cell_type": "code",
      "metadata": {
        "id": "XI4r1ZSqt6rN",
        "colab_type": "code",
        "colab": {},
        "outputId": "0392d34c-279f-4e9c-b7e2-86014b3c9210"
      },
      "source": [
        "# created_at index -1 and num_comments index 4 \n",
        "result_list=[]\n",
        "\n",
        "counts_by_hour={}\n",
        "comments_by_hour={}\n",
        "\n",
        "for row in ask_post:\n",
        "    created_num=[row[-1],int(row[4])]\n",
        "    result_list.append(created_num)\n",
        "\n",
        "for row in result_list:\n",
        "    obj_datetime=dt.datetime.strptime(row[0],\"%m/%d/%Y %H:%M\")\n",
        "    row[0]=obj_datetime\n",
        "    obj_time=obj_datetime.time()\n",
        "    \n",
        "    if obj_time not in counts_by_hour:\n",
        "        counts_by_hour[obj_time]=1\n",
        "        comments_by_hour[obj_time]=row[1]\n",
        "    elif obj_time in counts_by_hour:\n",
        "        counts_by_hour[obj_time]+=1\n",
        "        comments_by_hour[obj_time]+=row[1]   \n",
        "        \n",
        "avg_by_hour=[]\n",
        "\n",
        "for row in counts_by_hour:\n",
        "    avg_by_hour.append([row,round(comments_by_hour[row]/counts_by_hour[row],2)])\n",
        "\n",
        "print(avg_by_hour[0:2]) \n",
        "print(\"\\nTotal Ask_post classified by hour: \",len(avg_by_hour))"
      ],
      "execution_count": null,
      "outputs": [
        {
          "output_type": "stream",
          "text": [
            "[[datetime.time(4, 42), 2.33], [datetime.time(5, 31), 1.0]]\n",
            "\n",
            "Total Ask_post classified by hour:  967\n"
          ],
          "name": "stdout"
        }
      ]
    },
    {
      "cell_type": "markdown",
      "metadata": {
        "id": "QD9ES_ISt6rW",
        "colab_type": "text"
      },
      "source": [
        "## Show_post\n",
        "**scounts_by_hour:** contains the number of ask posts created during each hour of the day.\n",
        "\n",
        "**scomments_by_hour:** contains the corresponding number of comments ask posts created at each hour received."
      ]
    },
    {
      "cell_type": "code",
      "metadata": {
        "id": "sUTumPTUt6rW",
        "colab_type": "code",
        "colab": {},
        "outputId": "813d560d-1e3d-4457-cc08-01b04f5039a1"
      },
      "source": [
        "# created_at index -1 and num_comments index 4 \n",
        "sresult_list=[]\n",
        "\n",
        "scounts_by_hour={}\n",
        "scomments_by_hour={}\n",
        "\n",
        "for row in show_post:\n",
        "    created_num=[row[-1],int(row[4])]\n",
        "    sresult_list.append(created_num)\n",
        "\n",
        "for row in sresult_list:\n",
        "    obj_datetime=dt.datetime.strptime(row[0],\"%m/%d/%Y %H:%M\")\n",
        "    row[0]=obj_datetime\n",
        "    obj_time=obj_datetime.time()\n",
        "    \n",
        "    if obj_time not in scounts_by_hour:\n",
        "        scounts_by_hour[obj_time]=1\n",
        "        scomments_by_hour[obj_time]=row[1]\n",
        "    elif obj_time in scounts_by_hour:\n",
        "        scounts_by_hour[obj_time]+=1\n",
        "        scomments_by_hour[obj_time]+=row[1]   \n",
        "        \n",
        "savg_by_hour=[]\n",
        "\n",
        "for row in scounts_by_hour:\n",
        "    savg_by_hour.append([row,round(scomments_by_hour[row]/scounts_by_hour[row],2)])\n",
        "\n",
        "print(savg_by_hour[0:2])  \n",
        "print(\"\\nTotal show_post classified by hour: \",len(savg_by_hour))"
      ],
      "execution_count": null,
      "outputs": [
        {
          "output_type": "stream",
          "text": [
            "[[datetime.time(14, 12), 117.0], [datetime.time(22, 12), 3.0]]\n",
            "\n",
            "Total show_post classified by hour:  745\n"
          ],
          "name": "stdout"
        }
      ]
    },
    {
      "cell_type": "markdown",
      "metadata": {
        "id": "DTm5ZaqBt6rb",
        "colab_type": "text"
      },
      "source": [
        "**Swapped columns & sort in descending order for ask_post**"
      ]
    },
    {
      "cell_type": "code",
      "metadata": {
        "id": "yh1XpbiTt6rc",
        "colab_type": "code",
        "colab": {},
        "outputId": "b2818151-8e7f-40f7-c9d1-b5b58c9c9d25"
      },
      "source": [
        "swap_avg_by_hour=[]\n",
        "\n",
        "for row in avg_by_hour:\n",
        "    swap_avg_by_hour.append([row[1],row[0]])\n",
        "\n",
        "sorted_swap=sorted(swap_avg_by_hour,reverse=True)\n",
        "\n",
        "for row in sorted_swap[0:5]:\n",
        "    format_str=\"{} {}  average {} per post\"\n",
        "    if row[0]>1:\n",
        "        print(format_str.format(row[1].strftime(\"%H:%M\"),row[0],\"comments\"))\n",
        "    else:\n",
        "        print(format_str.format(row[1].strftime(\"%H:%M\"),row[0],\"comment\"))"
      ],
      "execution_count": null,
      "outputs": [
        {
          "output_type": "stream",
          "text": [
            "02:07 434.5  average comments per post\n",
            "16:43 350.0  average comments per post\n",
            "11:52 266.0  average comments per post\n",
            "20:57 258.0  average comments per post\n",
            "20:18 239.5  average comments per post\n"
          ],
          "name": "stdout"
        }
      ]
    },
    {
      "cell_type": "markdown",
      "metadata": {
        "id": "OSV3wURTt6rl",
        "colab_type": "text"
      },
      "source": [
        "**Swapped columns & sort in descending order for show_post**"
      ]
    },
    {
      "cell_type": "code",
      "metadata": {
        "scrolled": true,
        "id": "cTDgqlgHt6rm",
        "colab_type": "code",
        "colab": {},
        "outputId": "755bb32e-fab7-4042-f034-a84c8eecc327"
      },
      "source": [
        "sswap_avg_by_hour=[]\n",
        "\n",
        "for row in savg_by_hour:\n",
        "    sswap_avg_by_hour.append([row[1],row[0]])\n",
        "\n",
        "ssorted_swap=sorted(sswap_avg_by_hour,reverse=True)\n",
        "\n",
        "for row in ssorted_swap[0:5]:\n",
        "    format_str=\"{} {}  average {} per post\"\n",
        "    if row[0]>1:\n",
        "        print(format_str.format(row[1].strftime(\"%H:%M\"),row[0],\"comments\"))\n",
        "    else:\n",
        "        print(format_str.format(row[1].strftime(\"%H:%M\"),row[0],\"comment\"))"
      ],
      "execution_count": null,
      "outputs": [
        {
          "output_type": "stream",
          "text": [
            "18:55 206.0  average comments per post\n",
            "12:02 197.0  average comments per post\n",
            "14:39 160.5  average comments per post\n",
            "14:12 117.0  average comments per post\n",
            "00:28 92.0  average comments per post\n"
          ],
          "name": "stdout"
        }
      ]
    },
    {
      "cell_type": "markdown",
      "metadata": {
        "id": "T1wRjDJet6rs",
        "colab_type": "text"
      },
      "source": [
        "The **time zone** of the times of each ask post and show post is **Eastern Time in the US** and you can verified this [here](https://www.kaggle.com/hacker-news/hacker-news-posts)."
      ]
    },
    {
      "cell_type": "markdown",
      "metadata": {
        "id": "1hdDRu5Lt6rt",
        "colab_type": "text"
      },
      "source": [
        "For **Ask post** the hour whith higher chance of receiving comments is at **02:07** with **434 average comments per post**. For me this would be at 1:07 (Colombia time UTC-5).\n",
        "\n",
        "For **Show post** the hour whith higher chance of receiving comments is at **18:55** with **206 average comments per post**. For me this would be at 17:55 (Colombia time UTC-5)\n"
      ]
    },
    {
      "cell_type": "code",
      "metadata": {
        "id": "4-KkXKp6t6ru",
        "colab_type": "code",
        "colab": {},
        "outputId": "437d67ef-a01d-4c93-80c6-b34662807de3"
      },
      "source": [
        "aTen=0\n",
        "a_Ten=[]\n",
        "a_Hundred=[]\n",
        "\n",
        "sTen=0\n",
        "s_Ten=[]\n",
        "s_Hundred=[]\n",
        "\n",
        "for row in sorted_swap:\n",
        "    if row[0] >= 10:\n",
        "        aTen+=1\n",
        "\n",
        "    if row[0] >= 100:\n",
        "        a_Hundred.append(row[1])\n",
        "        \n",
        "        \n",
        "for row in ssorted_swap:\n",
        "    if row[0] >= 10:\n",
        "        sTen+=1\n",
        "    \n",
        "    if row[0] >= 100:\n",
        "        s_Hundred.append(row[1])\n",
        "\n",
        "print(\"Greater than or equal to 10 comments in Ask post: \",aTen,\" Schedules\")\n",
        "print(\"Greater than or equal to 10 comments in Show post: \",sTen,\" Schedules\")\n",
        "print(\"Greater than or equal to 100 comments in Ask post: \",len(a_Hundred),\" Schedules\")\n",
        "print(\"Greater than or equal to 100 comments in Show post: \",len(s_Hundred),\" Schedules\")"
      ],
      "execution_count": null,
      "outputs": [
        {
          "output_type": "stream",
          "text": [
            "Greater than or equal to 10 comments in Ask post:  235  Schedules\n",
            "Greater than or equal to 10 comments in Show post:  185  Schedules\n",
            "Greater than or equal to 100 comments in Ask post:  18  Schedules\n",
            "Greater than or equal to 100 comments in Show post:  4  Schedules\n"
          ],
          "name": "stdout"
        }
      ]
    },
    {
      "cell_type": "markdown",
      "metadata": {
        "id": "Mu6opHUIt6r1",
        "colab_type": "text"
      },
      "source": [
        "# Conclusion\n",
        ">The **Ask Post** has greater participation than **Show post**  by community from Hacker News with aproximatly 14 average coments per post.\n",
        "\n",
        ">The **Show Post** represent the second part of the participation of  **Ask Post** with aproximatly 7 average coments per post.\n",
        "\n",
        ">It is expected that of 20,100 post 8.68 % correspond to **Ask Post** and 5.78% correspond to **Show Post**. This does not mean that this kind of posts be the least popular from Hacker News for this we would need study the composition of the rest percentage (Other post 85.54 %)\n",
        "\n",
        ">For **Ask Post** receive more than 9 average comments per post there is 235 schedules and for **Show Post** there is 185 schedules.\n",
        "\n",
        ">For **Ask Post** receive more than 99 average comments per post there is 18 schedules and for **Show Post** there is 4 schedules.\n",
        "\n",
        "\n"
      ]
    },
    {
      "cell_type": "markdown",
      "metadata": {
        "id": "CvhVSTmWt6r2",
        "colab_type": "text"
      },
      "source": [
        "**Times to publish a post and get at least 100 average comment per post:**"
      ]
    },
    {
      "cell_type": "markdown",
      "metadata": {
        "id": "sy33IWJnt6r3",
        "colab_type": "text"
      },
      "source": [
        "```\n",
        "Ask post Show post\n",
        "-------- --------\n",
        "02:07:00 18:55:00\n",
        "16:43:00 12:02:00\n",
        "11:52:00 14:39:00\n",
        "20:57:00 14:12:00\n",
        "20:18:00\n",
        "13:04:00\n",
        "15:00:00\n",
        "15:01:00\n",
        "18:35:00\n",
        "17:02:00\n",
        "21:03:00\n",
        "15:52:00\n",
        "15:40:00\n",
        "19:37:00\n",
        "16:13:00\n",
        "15:07:00\n",
        "10:25:00\n",
        "02:22:00\n",
        "```"
      ]
    }
  ]
}