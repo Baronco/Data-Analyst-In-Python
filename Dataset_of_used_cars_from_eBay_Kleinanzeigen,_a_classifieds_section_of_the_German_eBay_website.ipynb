{
  "nbformat": 4,
  "nbformat_minor": 0,
  "metadata": {
    "kernelspec": {
      "display_name": "Python 3",
      "language": "python",
      "name": "python3"
    },
    "language_info": {
      "codemirror_mode": {
        "name": "ipython",
        "version": 3
      },
      "file_extension": ".py",
      "mimetype": "text/x-python",
      "name": "python",
      "nbconvert_exporter": "python",
      "pygments_lexer": "ipython3",
      "version": "3.4.3"
    },
    "colab": {
      "name": "Dataset of used cars from eBay Kleinanzeigen, a classifieds section of the German eBay website.ipynb",
      "provenance": [],
      "collapsed_sections": [
        "zTBm4AHwgEi4"
      ],
      "toc_visible": true
    }
  },
  "cells": [
    {
      "cell_type": "markdown",
      "metadata": {
        "collapsed": true,
        "id": "LrNUoFyCgEhk",
        "colab_type": "text"
      },
      "source": [
        "# Dataset of used cars from eBay Kleinanzeigen, a classifieds section of the German eBay website\n",
        "\n",
        "The aim of this project is to clean the data and analyze the **included used car listings** in dataset of used cars from eBay Kleinanzeigen, a classifieds section of the German eBay website. \n",
        "\n",
        "Used cars database download [kaggle](https://www.kaggle.com/orgesleka/used-cars-database/data)\n"
      ]
    },
    {
      "cell_type": "markdown",
      "metadata": {
        "id": "ee8v5TaBgEhl",
        "colab_type": "text"
      },
      "source": [
        "## The data dictionary provided with data is as follows:\n",
        ">**dateCrawled** - When this ad was first crawled. All field-values are taken from this date.\n",
        "\n",
        ">**name** - Name of the car.\n",
        "\n",
        ">**seller** - Whether the seller is private or a dealer.\n",
        "\n",
        ">**offerType** - The type of listing\n",
        "\n",
        ">**price** - The price on the ad to sell the car.\n",
        "\n",
        ">**abtest** - Whether the listing is included in an A/B test.\n",
        "\n",
        ">**vehicleType** - The vehicle Type.\n",
        "\n",
        ">**yearOfRegistration** - The year in which the car was first registered.\n",
        "\n",
        ">**gearbox** - The transmission type.\n",
        "\n",
        ">**powerPS** - The power of the car in PS.\n",
        "\n",
        ">**model** - The car model name.\n",
        "\n",
        ">**kilometer** - How many kilometers the car has driven.\n",
        "\n",
        ">**monthOfRegistration** - The month in which the car was first registered.\n",
        "\n",
        ">**fuelType** - What type of fuel the car uses.\n",
        "\n",
        ">**brand** - The brand of the car.\n",
        "\n",
        ">**notRepairedDamage** - If the car has a damage which is not yet repaired.\n",
        "\n",
        ">**dateCreated** - The date on which the eBay listing was created.\n",
        "\n",
        ">**nrOfPictures** - The number of pictures in the ad.\n",
        "\n",
        ">**postalCode** - The postal code for the location of the vehicle.\n",
        "\n",
        ">**lastSeenOnline** - When the crawler saw this ad last online."
      ]
    },
    {
      "cell_type": "code",
      "metadata": {
        "id": "6Vf_xAI6g-On",
        "colab_type": "code",
        "colab": {
          "base_uri": "https://localhost:8080/",
          "height": 34
        },
        "outputId": "736aed30-8efe-42cf-f3bb-fe330ef74c37"
      },
      "source": [
        "from google.colab import drive\n",
        "drive.mount('/content/drive')"
      ],
      "execution_count": null,
      "outputs": [
        {
          "output_type": "stream",
          "text": [
            "Drive already mounted at /content/drive; to attempt to forcibly remount, call drive.mount(\"/content/drive\", force_remount=True).\n"
          ],
          "name": "stdout"
        }
      ]
    },
    {
      "cell_type": "code",
      "metadata": {
        "id": "kSljvj-lgEhm",
        "colab_type": "code",
        "colab": {}
      },
      "source": [
        "import pandas as pd\n",
        "import numpy as np\n",
        "autos = pd.read_csv(\"/content/drive/My Drive/Data Analyst In Python/Modulo3: Introduction to NumPy & Pandas/proyecto modulo3/autos.csv\",encoding=\"Latin-1\")"
      ],
      "execution_count": null,
      "outputs": []
    },
    {
      "cell_type": "markdown",
      "metadata": {
        "id": "Q389jN6ngEhq",
        "colab_type": "text"
      },
      "source": [
        "# **Information about Dataframe**"
      ]
    },
    {
      "cell_type": "code",
      "metadata": {
        "id": "0qYSNwz8gEhq",
        "colab_type": "code",
        "colab": {
          "base_uri": "https://localhost:8080/",
          "height": 50
        },
        "outputId": "e4b2e879-a2df-4a62-cc8c-21f309f3ec77"
      },
      "source": [
        "print(\"Number of rows: \",autos.shape[0])\n",
        "print(\"Number of columns: \",autos.shape[1])"
      ],
      "execution_count": null,
      "outputs": [
        {
          "output_type": "stream",
          "text": [
            "Number of rows:  50000\n",
            "Number of columns:  20\n"
          ],
          "name": "stdout"
        }
      ]
    },
    {
      "cell_type": "markdown",
      "metadata": {
        "id": "2mDMzUcMgEhu",
        "colab_type": "text"
      },
      "source": [
        "**First 5 rows and last 5 columns**"
      ]
    },
    {
      "cell_type": "code",
      "metadata": {
        "id": "anQUS5ElgEhv",
        "colab_type": "code",
        "colab": {
          "base_uri": "https://localhost:8080/",
          "height": 383
        },
        "outputId": "e939372e-eaca-4fe6-a7d9-875ea16ea450"
      },
      "source": [
        "autos.head()"
      ],
      "execution_count": null,
      "outputs": [
        {
          "output_type": "execute_result",
          "data": {
            "text/html": [
              "<div>\n",
              "<style scoped>\n",
              "    .dataframe tbody tr th:only-of-type {\n",
              "        vertical-align: middle;\n",
              "    }\n",
              "\n",
              "    .dataframe tbody tr th {\n",
              "        vertical-align: top;\n",
              "    }\n",
              "\n",
              "    .dataframe thead th {\n",
              "        text-align: right;\n",
              "    }\n",
              "</style>\n",
              "<table border=\"1\" class=\"dataframe\">\n",
              "  <thead>\n",
              "    <tr style=\"text-align: right;\">\n",
              "      <th></th>\n",
              "      <th>dateCrawled</th>\n",
              "      <th>name</th>\n",
              "      <th>seller</th>\n",
              "      <th>offerType</th>\n",
              "      <th>price</th>\n",
              "      <th>abtest</th>\n",
              "      <th>vehicleType</th>\n",
              "      <th>yearOfRegistration</th>\n",
              "      <th>gearbox</th>\n",
              "      <th>powerPS</th>\n",
              "      <th>model</th>\n",
              "      <th>odometer</th>\n",
              "      <th>monthOfRegistration</th>\n",
              "      <th>fuelType</th>\n",
              "      <th>brand</th>\n",
              "      <th>notRepairedDamage</th>\n",
              "      <th>dateCreated</th>\n",
              "      <th>nrOfPictures</th>\n",
              "      <th>postalCode</th>\n",
              "      <th>lastSeen</th>\n",
              "    </tr>\n",
              "  </thead>\n",
              "  <tbody>\n",
              "    <tr>\n",
              "      <th>0</th>\n",
              "      <td>2016-03-26 17:47:46</td>\n",
              "      <td>Peugeot_807_160_NAVTECH_ON_BOARD</td>\n",
              "      <td>privat</td>\n",
              "      <td>Angebot</td>\n",
              "      <td>$5,000</td>\n",
              "      <td>control</td>\n",
              "      <td>bus</td>\n",
              "      <td>2004</td>\n",
              "      <td>manuell</td>\n",
              "      <td>158</td>\n",
              "      <td>andere</td>\n",
              "      <td>150,000km</td>\n",
              "      <td>3</td>\n",
              "      <td>lpg</td>\n",
              "      <td>peugeot</td>\n",
              "      <td>nein</td>\n",
              "      <td>2016-03-26 00:00:00</td>\n",
              "      <td>0</td>\n",
              "      <td>79588</td>\n",
              "      <td>2016-04-06 06:45:54</td>\n",
              "    </tr>\n",
              "    <tr>\n",
              "      <th>1</th>\n",
              "      <td>2016-04-04 13:38:56</td>\n",
              "      <td>BMW_740i_4_4_Liter_HAMANN_UMBAU_Mega_Optik</td>\n",
              "      <td>privat</td>\n",
              "      <td>Angebot</td>\n",
              "      <td>$8,500</td>\n",
              "      <td>control</td>\n",
              "      <td>limousine</td>\n",
              "      <td>1997</td>\n",
              "      <td>automatik</td>\n",
              "      <td>286</td>\n",
              "      <td>7er</td>\n",
              "      <td>150,000km</td>\n",
              "      <td>6</td>\n",
              "      <td>benzin</td>\n",
              "      <td>bmw</td>\n",
              "      <td>nein</td>\n",
              "      <td>2016-04-04 00:00:00</td>\n",
              "      <td>0</td>\n",
              "      <td>71034</td>\n",
              "      <td>2016-04-06 14:45:08</td>\n",
              "    </tr>\n",
              "    <tr>\n",
              "      <th>2</th>\n",
              "      <td>2016-03-26 18:57:24</td>\n",
              "      <td>Volkswagen_Golf_1.6_United</td>\n",
              "      <td>privat</td>\n",
              "      <td>Angebot</td>\n",
              "      <td>$8,990</td>\n",
              "      <td>test</td>\n",
              "      <td>limousine</td>\n",
              "      <td>2009</td>\n",
              "      <td>manuell</td>\n",
              "      <td>102</td>\n",
              "      <td>golf</td>\n",
              "      <td>70,000km</td>\n",
              "      <td>7</td>\n",
              "      <td>benzin</td>\n",
              "      <td>volkswagen</td>\n",
              "      <td>nein</td>\n",
              "      <td>2016-03-26 00:00:00</td>\n",
              "      <td>0</td>\n",
              "      <td>35394</td>\n",
              "      <td>2016-04-06 20:15:37</td>\n",
              "    </tr>\n",
              "    <tr>\n",
              "      <th>3</th>\n",
              "      <td>2016-03-12 16:58:10</td>\n",
              "      <td>Smart_smart_fortwo_coupe_softouch/F1/Klima/Pan...</td>\n",
              "      <td>privat</td>\n",
              "      <td>Angebot</td>\n",
              "      <td>$4,350</td>\n",
              "      <td>control</td>\n",
              "      <td>kleinwagen</td>\n",
              "      <td>2007</td>\n",
              "      <td>automatik</td>\n",
              "      <td>71</td>\n",
              "      <td>fortwo</td>\n",
              "      <td>70,000km</td>\n",
              "      <td>6</td>\n",
              "      <td>benzin</td>\n",
              "      <td>smart</td>\n",
              "      <td>nein</td>\n",
              "      <td>2016-03-12 00:00:00</td>\n",
              "      <td>0</td>\n",
              "      <td>33729</td>\n",
              "      <td>2016-03-15 03:16:28</td>\n",
              "    </tr>\n",
              "    <tr>\n",
              "      <th>4</th>\n",
              "      <td>2016-04-01 14:38:50</td>\n",
              "      <td>Ford_Focus_1_6_Benzin_TÜV_neu_ist_sehr_gepfleg...</td>\n",
              "      <td>privat</td>\n",
              "      <td>Angebot</td>\n",
              "      <td>$1,350</td>\n",
              "      <td>test</td>\n",
              "      <td>kombi</td>\n",
              "      <td>2003</td>\n",
              "      <td>manuell</td>\n",
              "      <td>0</td>\n",
              "      <td>focus</td>\n",
              "      <td>150,000km</td>\n",
              "      <td>7</td>\n",
              "      <td>benzin</td>\n",
              "      <td>ford</td>\n",
              "      <td>nein</td>\n",
              "      <td>2016-04-01 00:00:00</td>\n",
              "      <td>0</td>\n",
              "      <td>39218</td>\n",
              "      <td>2016-04-01 14:38:50</td>\n",
              "    </tr>\n",
              "  </tbody>\n",
              "</table>\n",
              "</div>"
            ],
            "text/plain": [
              "           dateCrawled  ...             lastSeen\n",
              "0  2016-03-26 17:47:46  ...  2016-04-06 06:45:54\n",
              "1  2016-04-04 13:38:56  ...  2016-04-06 14:45:08\n",
              "2  2016-03-26 18:57:24  ...  2016-04-06 20:15:37\n",
              "3  2016-03-12 16:58:10  ...  2016-03-15 03:16:28\n",
              "4  2016-04-01 14:38:50  ...  2016-04-01 14:38:50\n",
              "\n",
              "[5 rows x 20 columns]"
            ]
          },
          "metadata": {
            "tags": []
          },
          "execution_count": 4
        }
      ]
    },
    {
      "cell_type": "code",
      "metadata": {
        "id": "Smygd4V-gEhx",
        "colab_type": "code",
        "colab": {
          "base_uri": "https://localhost:8080/",
          "height": 383
        },
        "outputId": "b1026b54-9bba-4aff-f6dc-dd8c741f5073"
      },
      "source": [
        "autos.tail()"
      ],
      "execution_count": null,
      "outputs": [
        {
          "output_type": "execute_result",
          "data": {
            "text/html": [
              "<div>\n",
              "<style scoped>\n",
              "    .dataframe tbody tr th:only-of-type {\n",
              "        vertical-align: middle;\n",
              "    }\n",
              "\n",
              "    .dataframe tbody tr th {\n",
              "        vertical-align: top;\n",
              "    }\n",
              "\n",
              "    .dataframe thead th {\n",
              "        text-align: right;\n",
              "    }\n",
              "</style>\n",
              "<table border=\"1\" class=\"dataframe\">\n",
              "  <thead>\n",
              "    <tr style=\"text-align: right;\">\n",
              "      <th></th>\n",
              "      <th>dateCrawled</th>\n",
              "      <th>name</th>\n",
              "      <th>seller</th>\n",
              "      <th>offerType</th>\n",
              "      <th>price</th>\n",
              "      <th>abtest</th>\n",
              "      <th>vehicleType</th>\n",
              "      <th>yearOfRegistration</th>\n",
              "      <th>gearbox</th>\n",
              "      <th>powerPS</th>\n",
              "      <th>model</th>\n",
              "      <th>odometer</th>\n",
              "      <th>monthOfRegistration</th>\n",
              "      <th>fuelType</th>\n",
              "      <th>brand</th>\n",
              "      <th>notRepairedDamage</th>\n",
              "      <th>dateCreated</th>\n",
              "      <th>nrOfPictures</th>\n",
              "      <th>postalCode</th>\n",
              "      <th>lastSeen</th>\n",
              "    </tr>\n",
              "  </thead>\n",
              "  <tbody>\n",
              "    <tr>\n",
              "      <th>49995</th>\n",
              "      <td>2016-03-27 14:38:19</td>\n",
              "      <td>Audi_Q5_3.0_TDI_qu._S_tr.__Navi__Panorama__Xenon</td>\n",
              "      <td>privat</td>\n",
              "      <td>Angebot</td>\n",
              "      <td>$24,900</td>\n",
              "      <td>control</td>\n",
              "      <td>limousine</td>\n",
              "      <td>2011</td>\n",
              "      <td>automatik</td>\n",
              "      <td>239</td>\n",
              "      <td>q5</td>\n",
              "      <td>100,000km</td>\n",
              "      <td>1</td>\n",
              "      <td>diesel</td>\n",
              "      <td>audi</td>\n",
              "      <td>nein</td>\n",
              "      <td>2016-03-27 00:00:00</td>\n",
              "      <td>0</td>\n",
              "      <td>82131</td>\n",
              "      <td>2016-04-01 13:47:40</td>\n",
              "    </tr>\n",
              "    <tr>\n",
              "      <th>49996</th>\n",
              "      <td>2016-03-28 10:50:25</td>\n",
              "      <td>Opel_Astra_F_Cabrio_Bertone_Edition___TÜV_neu+...</td>\n",
              "      <td>privat</td>\n",
              "      <td>Angebot</td>\n",
              "      <td>$1,980</td>\n",
              "      <td>control</td>\n",
              "      <td>cabrio</td>\n",
              "      <td>1996</td>\n",
              "      <td>manuell</td>\n",
              "      <td>75</td>\n",
              "      <td>astra</td>\n",
              "      <td>150,000km</td>\n",
              "      <td>5</td>\n",
              "      <td>benzin</td>\n",
              "      <td>opel</td>\n",
              "      <td>nein</td>\n",
              "      <td>2016-03-28 00:00:00</td>\n",
              "      <td>0</td>\n",
              "      <td>44807</td>\n",
              "      <td>2016-04-02 14:18:02</td>\n",
              "    </tr>\n",
              "    <tr>\n",
              "      <th>49997</th>\n",
              "      <td>2016-04-02 14:44:48</td>\n",
              "      <td>Fiat_500_C_1.2_Dualogic_Lounge</td>\n",
              "      <td>privat</td>\n",
              "      <td>Angebot</td>\n",
              "      <td>$13,200</td>\n",
              "      <td>test</td>\n",
              "      <td>cabrio</td>\n",
              "      <td>2014</td>\n",
              "      <td>automatik</td>\n",
              "      <td>69</td>\n",
              "      <td>500</td>\n",
              "      <td>5,000km</td>\n",
              "      <td>11</td>\n",
              "      <td>benzin</td>\n",
              "      <td>fiat</td>\n",
              "      <td>nein</td>\n",
              "      <td>2016-04-02 00:00:00</td>\n",
              "      <td>0</td>\n",
              "      <td>73430</td>\n",
              "      <td>2016-04-04 11:47:27</td>\n",
              "    </tr>\n",
              "    <tr>\n",
              "      <th>49998</th>\n",
              "      <td>2016-03-08 19:25:42</td>\n",
              "      <td>Audi_A3_2.0_TDI_Sportback_Ambition</td>\n",
              "      <td>privat</td>\n",
              "      <td>Angebot</td>\n",
              "      <td>$22,900</td>\n",
              "      <td>control</td>\n",
              "      <td>kombi</td>\n",
              "      <td>2013</td>\n",
              "      <td>manuell</td>\n",
              "      <td>150</td>\n",
              "      <td>a3</td>\n",
              "      <td>40,000km</td>\n",
              "      <td>11</td>\n",
              "      <td>diesel</td>\n",
              "      <td>audi</td>\n",
              "      <td>nein</td>\n",
              "      <td>2016-03-08 00:00:00</td>\n",
              "      <td>0</td>\n",
              "      <td>35683</td>\n",
              "      <td>2016-04-05 16:45:07</td>\n",
              "    </tr>\n",
              "    <tr>\n",
              "      <th>49999</th>\n",
              "      <td>2016-03-14 00:42:12</td>\n",
              "      <td>Opel_Vectra_1.6_16V</td>\n",
              "      <td>privat</td>\n",
              "      <td>Angebot</td>\n",
              "      <td>$1,250</td>\n",
              "      <td>control</td>\n",
              "      <td>limousine</td>\n",
              "      <td>1996</td>\n",
              "      <td>manuell</td>\n",
              "      <td>101</td>\n",
              "      <td>vectra</td>\n",
              "      <td>150,000km</td>\n",
              "      <td>1</td>\n",
              "      <td>benzin</td>\n",
              "      <td>opel</td>\n",
              "      <td>nein</td>\n",
              "      <td>2016-03-13 00:00:00</td>\n",
              "      <td>0</td>\n",
              "      <td>45897</td>\n",
              "      <td>2016-04-06 21:18:48</td>\n",
              "    </tr>\n",
              "  </tbody>\n",
              "</table>\n",
              "</div>"
            ],
            "text/plain": [
              "               dateCrawled  ...             lastSeen\n",
              "49995  2016-03-27 14:38:19  ...  2016-04-01 13:47:40\n",
              "49996  2016-03-28 10:50:25  ...  2016-04-02 14:18:02\n",
              "49997  2016-04-02 14:44:48  ...  2016-04-04 11:47:27\n",
              "49998  2016-03-08 19:25:42  ...  2016-04-05 16:45:07\n",
              "49999  2016-03-14 00:42:12  ...  2016-04-06 21:18:48\n",
              "\n",
              "[5 rows x 20 columns]"
            ]
          },
          "metadata": {
            "tags": []
          },
          "execution_count": 5
        }
      ]
    },
    {
      "cell_type": "markdown",
      "metadata": {
        "id": "YogNdmsQgEhz",
        "colab_type": "text"
      },
      "source": [
        "**Dataframe info**"
      ]
    },
    {
      "cell_type": "code",
      "metadata": {
        "scrolled": true,
        "id": "Rw1Z1OjcgEhz",
        "colab_type": "code",
        "colab": {
          "base_uri": "https://localhost:8080/",
          "height": 470
        },
        "outputId": "72faec8a-cfc3-431c-8a3d-93c24f5c39b5"
      },
      "source": [
        "autos.info()"
      ],
      "execution_count": null,
      "outputs": [
        {
          "output_type": "stream",
          "text": [
            "<class 'pandas.core.frame.DataFrame'>\n",
            "RangeIndex: 50000 entries, 0 to 49999\n",
            "Data columns (total 20 columns):\n",
            " #   Column               Non-Null Count  Dtype \n",
            "---  ------               --------------  ----- \n",
            " 0   dateCrawled          50000 non-null  object\n",
            " 1   name                 50000 non-null  object\n",
            " 2   seller               50000 non-null  object\n",
            " 3   offerType            50000 non-null  object\n",
            " 4   price                50000 non-null  object\n",
            " 5   abtest               50000 non-null  object\n",
            " 6   vehicleType          44905 non-null  object\n",
            " 7   yearOfRegistration   50000 non-null  int64 \n",
            " 8   gearbox              47320 non-null  object\n",
            " 9   powerPS              50000 non-null  int64 \n",
            " 10  model                47242 non-null  object\n",
            " 11  odometer             50000 non-null  object\n",
            " 12  monthOfRegistration  50000 non-null  int64 \n",
            " 13  fuelType             45518 non-null  object\n",
            " 14  brand                50000 non-null  object\n",
            " 15  notRepairedDamage    40171 non-null  object\n",
            " 16  dateCreated          50000 non-null  object\n",
            " 17  nrOfPictures         50000 non-null  int64 \n",
            " 18  postalCode           50000 non-null  int64 \n",
            " 19  lastSeen             50000 non-null  object\n",
            "dtypes: int64(5), object(15)\n",
            "memory usage: 7.6+ MB\n"
          ],
          "name": "stdout"
        }
      ]
    },
    {
      "cell_type": "markdown",
      "metadata": {
        "id": "jvG4DR9jgEh1",
        "colab_type": "text"
      },
      "source": [
        "About the dataframe shape **expect that each column has at most 5,000 datas**. Taking into account the above **using dataframe.info() method ** can be conclude that columns **vehicleType, gearbox, model, fuelType** and **notRepairedDamage** contain null data.\n",
        "\n",
        "The dataset contains 20 columns, **most of which are strings.**\n",
        "\n",
        "For analize columns **price** and **odometer (Kilometers driven)** is necesary delete characters \"$$\" and \"km\" taking into account its possible variations, for example: kms, Kms, KM, $ xxx, xxx$, etc. \n",
        "\n",
        "Column **name** use camelcase and can give information about cars model offered but is necessary fix each name maybe capitalizing or using  snakecase for avoid leave data unused\n",
        "\n",
        "Finally could be adequate **modificate some labels** for more clarity and comprehension its information"
      ]
    },
    {
      "cell_type": "markdown",
      "metadata": {
        "id": "JiFNXUSVgEh2",
        "colab_type": "text"
      },
      "source": [
        "# Data Cleaning"
      ]
    },
    {
      "cell_type": "markdown",
      "metadata": {
        "id": "YW5ofmJGgEh2",
        "colab_type": "text"
      },
      "source": [
        "Rewording some columns names based to be more descriptive."
      ]
    },
    {
      "cell_type": "code",
      "metadata": {
        "scrolled": true,
        "id": "yCDh0rHbgEh2",
        "colab_type": "code",
        "colab": {
          "base_uri": "https://localhost:8080/",
          "height": 358
        },
        "outputId": "5326d253-3c9b-40cd-a42e-ccde896dd2a7"
      },
      "source": [
        "print(autos.columns)\n",
        "\n",
        "reword = { \"yearOfRegistration\" : \"registration_year\",\n",
        "           \"monthOfRegistration\" : \"registration_month\",\n",
        "           \"notRepairedDamage\" : \"unrepaired_damage\",\n",
        "           \"dateCreated\" : \"ad_created\",\n",
        "           \"powerPS\" : \"power_PS\",\n",
        "           \"odometer\" : \"odometer_km\"\n",
        "         }\n",
        "\n",
        "def change_case(str): \n",
        "    res = [str[0].lower()] \n",
        "    for c in str[1:]: \n",
        "        if c in ('ABCDEFGHIJKLMNOPQRSTUVWXYZ'): \n",
        "            res.append('_') \n",
        "            res.append(c.lower()) \n",
        "        else: \n",
        "            res.append(c) \n",
        "      \n",
        "    return ''.join(res)\n",
        "\n",
        "for label in autos.columns:\n",
        "    if label not in reword:\n",
        "        reword[label] = change_case(label)\n",
        "\n",
        "autos.rename(reword, axis=1, inplace=True)\n",
        "autos.head(3)"
      ],
      "execution_count": null,
      "outputs": [
        {
          "output_type": "stream",
          "text": [
            "Index(['dateCrawled', 'name', 'seller', 'offerType', 'price', 'abtest',\n",
            "       'vehicleType', 'yearOfRegistration', 'gearbox', 'powerPS', 'model',\n",
            "       'odometer', 'monthOfRegistration', 'fuelType', 'brand',\n",
            "       'notRepairedDamage', 'dateCreated', 'nrOfPictures', 'postalCode',\n",
            "       'lastSeen'],\n",
            "      dtype='object')\n"
          ],
          "name": "stdout"
        },
        {
          "output_type": "execute_result",
          "data": {
            "text/html": [
              "<div>\n",
              "<style scoped>\n",
              "    .dataframe tbody tr th:only-of-type {\n",
              "        vertical-align: middle;\n",
              "    }\n",
              "\n",
              "    .dataframe tbody tr th {\n",
              "        vertical-align: top;\n",
              "    }\n",
              "\n",
              "    .dataframe thead th {\n",
              "        text-align: right;\n",
              "    }\n",
              "</style>\n",
              "<table border=\"1\" class=\"dataframe\">\n",
              "  <thead>\n",
              "    <tr style=\"text-align: right;\">\n",
              "      <th></th>\n",
              "      <th>date_crawled</th>\n",
              "      <th>name</th>\n",
              "      <th>seller</th>\n",
              "      <th>offer_type</th>\n",
              "      <th>price</th>\n",
              "      <th>abtest</th>\n",
              "      <th>vehicle_type</th>\n",
              "      <th>registration_year</th>\n",
              "      <th>gearbox</th>\n",
              "      <th>power_PS</th>\n",
              "      <th>model</th>\n",
              "      <th>odometer_km</th>\n",
              "      <th>registration_month</th>\n",
              "      <th>fuel_type</th>\n",
              "      <th>brand</th>\n",
              "      <th>unrepaired_damage</th>\n",
              "      <th>ad_created</th>\n",
              "      <th>nr_of_pictures</th>\n",
              "      <th>postal_code</th>\n",
              "      <th>last_seen</th>\n",
              "    </tr>\n",
              "  </thead>\n",
              "  <tbody>\n",
              "    <tr>\n",
              "      <th>0</th>\n",
              "      <td>2016-03-26 17:47:46</td>\n",
              "      <td>Peugeot_807_160_NAVTECH_ON_BOARD</td>\n",
              "      <td>privat</td>\n",
              "      <td>Angebot</td>\n",
              "      <td>$5,000</td>\n",
              "      <td>control</td>\n",
              "      <td>bus</td>\n",
              "      <td>2004</td>\n",
              "      <td>manuell</td>\n",
              "      <td>158</td>\n",
              "      <td>andere</td>\n",
              "      <td>150,000km</td>\n",
              "      <td>3</td>\n",
              "      <td>lpg</td>\n",
              "      <td>peugeot</td>\n",
              "      <td>nein</td>\n",
              "      <td>2016-03-26 00:00:00</td>\n",
              "      <td>0</td>\n",
              "      <td>79588</td>\n",
              "      <td>2016-04-06 06:45:54</td>\n",
              "    </tr>\n",
              "    <tr>\n",
              "      <th>1</th>\n",
              "      <td>2016-04-04 13:38:56</td>\n",
              "      <td>BMW_740i_4_4_Liter_HAMANN_UMBAU_Mega_Optik</td>\n",
              "      <td>privat</td>\n",
              "      <td>Angebot</td>\n",
              "      <td>$8,500</td>\n",
              "      <td>control</td>\n",
              "      <td>limousine</td>\n",
              "      <td>1997</td>\n",
              "      <td>automatik</td>\n",
              "      <td>286</td>\n",
              "      <td>7er</td>\n",
              "      <td>150,000km</td>\n",
              "      <td>6</td>\n",
              "      <td>benzin</td>\n",
              "      <td>bmw</td>\n",
              "      <td>nein</td>\n",
              "      <td>2016-04-04 00:00:00</td>\n",
              "      <td>0</td>\n",
              "      <td>71034</td>\n",
              "      <td>2016-04-06 14:45:08</td>\n",
              "    </tr>\n",
              "    <tr>\n",
              "      <th>2</th>\n",
              "      <td>2016-03-26 18:57:24</td>\n",
              "      <td>Volkswagen_Golf_1.6_United</td>\n",
              "      <td>privat</td>\n",
              "      <td>Angebot</td>\n",
              "      <td>$8,990</td>\n",
              "      <td>test</td>\n",
              "      <td>limousine</td>\n",
              "      <td>2009</td>\n",
              "      <td>manuell</td>\n",
              "      <td>102</td>\n",
              "      <td>golf</td>\n",
              "      <td>70,000km</td>\n",
              "      <td>7</td>\n",
              "      <td>benzin</td>\n",
              "      <td>volkswagen</td>\n",
              "      <td>nein</td>\n",
              "      <td>2016-03-26 00:00:00</td>\n",
              "      <td>0</td>\n",
              "      <td>35394</td>\n",
              "      <td>2016-04-06 20:15:37</td>\n",
              "    </tr>\n",
              "  </tbody>\n",
              "</table>\n",
              "</div>"
            ],
            "text/plain": [
              "          date_crawled  ...            last_seen\n",
              "0  2016-03-26 17:47:46  ...  2016-04-06 06:45:54\n",
              "1  2016-04-04 13:38:56  ...  2016-04-06 14:45:08\n",
              "2  2016-03-26 18:57:24  ...  2016-04-06 20:15:37\n",
              "\n",
              "[3 rows x 20 columns]"
            ]
          },
          "metadata": {
            "tags": []
          },
          "execution_count": 7
        }
      ]
    },
    {
      "cell_type": "markdown",
      "metadata": {
        "id": "DTYYZ7jjgEh5",
        "colab_type": "text"
      },
      "source": [
        "A dictionary called **reword** is created in order to rename some columns with a specific name. Then from a function called **[change_case()](https://www.geeksforgeeks.org/python-program-to-convert-camel-case-string-to-snake-case/ )** proceed to modify the rest of the columns in camelcase to snakecase format, the result of each modification is stored in the ** reword ** dictionary. Finally the columns are renamed using the same dictionary and the method ** dataframe.rename( )**."
      ]
    },
    {
      "cell_type": "markdown",
      "metadata": {
        "id": "Tx-K6rOCgEh5",
        "colab_type": "text"
      },
      "source": [
        "**Verification that columns \"price\" and \"odometer_km\" are not numeric values**"
      ]
    },
    {
      "cell_type": "code",
      "metadata": {
        "id": "HMigjiUvgEh5",
        "colab_type": "code",
        "colab": {
          "base_uri": "https://localhost:8080/",
          "height": 370
        },
        "outputId": "20760f14-c5e4-4326-ab3e-cab7760ebc50"
      },
      "source": [
        "autos.dtypes"
      ],
      "execution_count": null,
      "outputs": [
        {
          "output_type": "execute_result",
          "data": {
            "text/plain": [
              "date_crawled          object\n",
              "name                  object\n",
              "seller                object\n",
              "offer_type            object\n",
              "price                 object\n",
              "abtest                object\n",
              "vehicle_type          object\n",
              "registration_year      int64\n",
              "gearbox               object\n",
              "power_PS               int64\n",
              "model                 object\n",
              "odometer_km           object\n",
              "registration_month     int64\n",
              "fuel_type             object\n",
              "brand                 object\n",
              "unrepaired_damage     object\n",
              "ad_created            object\n",
              "nr_of_pictures         int64\n",
              "postal_code            int64\n",
              "last_seen             object\n",
              "dtype: object"
            ]
          },
          "metadata": {
            "tags": []
          },
          "execution_count": 8
        }
      ]
    },
    {
      "cell_type": "markdown",
      "metadata": {
        "id": "XnXaqPRagEh7",
        "colab_type": "text"
      },
      "source": [
        "**price, power_PS and odometer_km columns: Text to numeric values**"
      ]
    },
    {
      "cell_type": "code",
      "metadata": {
        "id": "Jpr_BhwtgEh8",
        "colab_type": "code",
        "colab": {}
      },
      "source": [
        "# Characters \"$\" and \"km\" are delete for convert its respective columns\n",
        "# to numeric values\n",
        "\n",
        "autos[\"price\"] = autos[\"price\"].str.replace(\"$\",\"\").str.replace(\",\",\"\")\n",
        "autos[\"price\"] = autos[\"price\"].astype(float)\n",
        "\n",
        "autos[\"odometer_km\"] = autos[\"odometer_km\"].str.replace(\"km\",\"\").str.replace(\",\",\"\")\n",
        "autos[\"odometer_km\"] = autos[\"odometer_km\"].astype(float)\n",
        "\n",
        "autos[\"power_PS\"] = autos[\"power_PS\"].astype(float)"
      ],
      "execution_count": null,
      "outputs": []
    },
    {
      "cell_type": "code",
      "metadata": {
        "id": "3kmK09P8gEh-",
        "colab_type": "code",
        "colab": {
          "base_uri": "https://localhost:8080/",
          "height": 67
        },
        "outputId": "7a049b01-cff0-4e45-fbb1-4da7f20657f5"
      },
      "source": [
        "print(\"dtype column price: \",autos[\"price\"].dtypes)\n",
        "print(\"dtype column odometer_km: \",autos[\"odometer_km\"].dtypes)\n",
        "print(\"dtype column power_PS: \",autos[\"power_PS\"].dtypes)"
      ],
      "execution_count": null,
      "outputs": [
        {
          "output_type": "stream",
          "text": [
            "dtype column price:  float64\n",
            "dtype column odometer_km:  float64\n",
            "dtype column power_PS:  float64\n"
          ],
          "name": "stdout"
        }
      ]
    },
    {
      "cell_type": "markdown",
      "metadata": {
        "id": "fWPfHz-XgEiA",
        "colab_type": "text"
      },
      "source": [
        "**Exploring non-numeric categories**"
      ]
    },
    {
      "cell_type": "code",
      "metadata": {
        "id": "q-AVE1OzgEiA",
        "colab_type": "code",
        "colab": {
          "base_uri": "https://localhost:8080/",
          "height": 219
        },
        "outputId": "97ff90cc-bd54-4676-a374-44ab6431928d"
      },
      "source": [
        "autos.describe(include=['O'])"
      ],
      "execution_count": null,
      "outputs": [
        {
          "output_type": "execute_result",
          "data": {
            "text/html": [
              "<div>\n",
              "<style scoped>\n",
              "    .dataframe tbody tr th:only-of-type {\n",
              "        vertical-align: middle;\n",
              "    }\n",
              "\n",
              "    .dataframe tbody tr th {\n",
              "        vertical-align: top;\n",
              "    }\n",
              "\n",
              "    .dataframe thead th {\n",
              "        text-align: right;\n",
              "    }\n",
              "</style>\n",
              "<table border=\"1\" class=\"dataframe\">\n",
              "  <thead>\n",
              "    <tr style=\"text-align: right;\">\n",
              "      <th></th>\n",
              "      <th>date_crawled</th>\n",
              "      <th>name</th>\n",
              "      <th>seller</th>\n",
              "      <th>offer_type</th>\n",
              "      <th>abtest</th>\n",
              "      <th>vehicle_type</th>\n",
              "      <th>gearbox</th>\n",
              "      <th>model</th>\n",
              "      <th>fuel_type</th>\n",
              "      <th>brand</th>\n",
              "      <th>unrepaired_damage</th>\n",
              "      <th>ad_created</th>\n",
              "      <th>last_seen</th>\n",
              "    </tr>\n",
              "  </thead>\n",
              "  <tbody>\n",
              "    <tr>\n",
              "      <th>count</th>\n",
              "      <td>50000</td>\n",
              "      <td>50000</td>\n",
              "      <td>50000</td>\n",
              "      <td>50000</td>\n",
              "      <td>50000</td>\n",
              "      <td>44905</td>\n",
              "      <td>47320</td>\n",
              "      <td>47242</td>\n",
              "      <td>45518</td>\n",
              "      <td>50000</td>\n",
              "      <td>40171</td>\n",
              "      <td>50000</td>\n",
              "      <td>50000</td>\n",
              "    </tr>\n",
              "    <tr>\n",
              "      <th>unique</th>\n",
              "      <td>48213</td>\n",
              "      <td>38754</td>\n",
              "      <td>2</td>\n",
              "      <td>2</td>\n",
              "      <td>2</td>\n",
              "      <td>8</td>\n",
              "      <td>2</td>\n",
              "      <td>245</td>\n",
              "      <td>7</td>\n",
              "      <td>40</td>\n",
              "      <td>2</td>\n",
              "      <td>76</td>\n",
              "      <td>39481</td>\n",
              "    </tr>\n",
              "    <tr>\n",
              "      <th>top</th>\n",
              "      <td>2016-03-23 18:39:34</td>\n",
              "      <td>Ford_Fiesta</td>\n",
              "      <td>privat</td>\n",
              "      <td>Angebot</td>\n",
              "      <td>test</td>\n",
              "      <td>limousine</td>\n",
              "      <td>manuell</td>\n",
              "      <td>golf</td>\n",
              "      <td>benzin</td>\n",
              "      <td>volkswagen</td>\n",
              "      <td>nein</td>\n",
              "      <td>2016-04-03 00:00:00</td>\n",
              "      <td>2016-04-07 06:17:27</td>\n",
              "    </tr>\n",
              "    <tr>\n",
              "      <th>freq</th>\n",
              "      <td>3</td>\n",
              "      <td>78</td>\n",
              "      <td>49999</td>\n",
              "      <td>49999</td>\n",
              "      <td>25756</td>\n",
              "      <td>12859</td>\n",
              "      <td>36993</td>\n",
              "      <td>4024</td>\n",
              "      <td>30107</td>\n",
              "      <td>10687</td>\n",
              "      <td>35232</td>\n",
              "      <td>1946</td>\n",
              "      <td>8</td>\n",
              "    </tr>\n",
              "  </tbody>\n",
              "</table>\n",
              "</div>"
            ],
            "text/plain": [
              "               date_crawled  ...            last_seen\n",
              "count                 50000  ...                50000\n",
              "unique                48213  ...                39481\n",
              "top     2016-03-23 18:39:34  ...  2016-04-07 06:17:27\n",
              "freq                      3  ...                    8\n",
              "\n",
              "[4 rows x 13 columns]"
            ]
          },
          "metadata": {
            "tags": []
          },
          "execution_count": 11
        }
      ]
    },
    {
      "cell_type": "markdown",
      "metadata": {
        "id": "DrT9gRyLgEiC",
        "colab_type": "text"
      },
      "source": [
        "**Exploring the numerical categories**"
      ]
    },
    {
      "cell_type": "code",
      "metadata": {
        "id": "nQxQfgNEgEiD",
        "colab_type": "code",
        "colab": {
          "base_uri": "https://localhost:8080/",
          "height": 284
        },
        "outputId": "fe3724b0-3af6-4174-b49c-7ee866c5de97"
      },
      "source": [
        "autos.describe()"
      ],
      "execution_count": null,
      "outputs": [
        {
          "output_type": "execute_result",
          "data": {
            "text/html": [
              "<div>\n",
              "<style scoped>\n",
              "    .dataframe tbody tr th:only-of-type {\n",
              "        vertical-align: middle;\n",
              "    }\n",
              "\n",
              "    .dataframe tbody tr th {\n",
              "        vertical-align: top;\n",
              "    }\n",
              "\n",
              "    .dataframe thead th {\n",
              "        text-align: right;\n",
              "    }\n",
              "</style>\n",
              "<table border=\"1\" class=\"dataframe\">\n",
              "  <thead>\n",
              "    <tr style=\"text-align: right;\">\n",
              "      <th></th>\n",
              "      <th>price</th>\n",
              "      <th>registration_year</th>\n",
              "      <th>power_PS</th>\n",
              "      <th>odometer_km</th>\n",
              "      <th>registration_month</th>\n",
              "      <th>nr_of_pictures</th>\n",
              "      <th>postal_code</th>\n",
              "    </tr>\n",
              "  </thead>\n",
              "  <tbody>\n",
              "    <tr>\n",
              "      <th>count</th>\n",
              "      <td>5.000000e+04</td>\n",
              "      <td>50000.000000</td>\n",
              "      <td>50000.000000</td>\n",
              "      <td>50000.000000</td>\n",
              "      <td>50000.000000</td>\n",
              "      <td>50000.0</td>\n",
              "      <td>50000.000000</td>\n",
              "    </tr>\n",
              "    <tr>\n",
              "      <th>mean</th>\n",
              "      <td>9.840044e+03</td>\n",
              "      <td>2005.073280</td>\n",
              "      <td>116.355920</td>\n",
              "      <td>125732.700000</td>\n",
              "      <td>5.723360</td>\n",
              "      <td>0.0</td>\n",
              "      <td>50813.627300</td>\n",
              "    </tr>\n",
              "    <tr>\n",
              "      <th>std</th>\n",
              "      <td>4.811044e+05</td>\n",
              "      <td>105.712813</td>\n",
              "      <td>209.216627</td>\n",
              "      <td>40042.211706</td>\n",
              "      <td>3.711984</td>\n",
              "      <td>0.0</td>\n",
              "      <td>25779.747957</td>\n",
              "    </tr>\n",
              "    <tr>\n",
              "      <th>min</th>\n",
              "      <td>0.000000e+00</td>\n",
              "      <td>1000.000000</td>\n",
              "      <td>0.000000</td>\n",
              "      <td>5000.000000</td>\n",
              "      <td>0.000000</td>\n",
              "      <td>0.0</td>\n",
              "      <td>1067.000000</td>\n",
              "    </tr>\n",
              "    <tr>\n",
              "      <th>25%</th>\n",
              "      <td>1.100000e+03</td>\n",
              "      <td>1999.000000</td>\n",
              "      <td>70.000000</td>\n",
              "      <td>125000.000000</td>\n",
              "      <td>3.000000</td>\n",
              "      <td>0.0</td>\n",
              "      <td>30451.000000</td>\n",
              "    </tr>\n",
              "    <tr>\n",
              "      <th>50%</th>\n",
              "      <td>2.950000e+03</td>\n",
              "      <td>2003.000000</td>\n",
              "      <td>105.000000</td>\n",
              "      <td>150000.000000</td>\n",
              "      <td>6.000000</td>\n",
              "      <td>0.0</td>\n",
              "      <td>49577.000000</td>\n",
              "    </tr>\n",
              "    <tr>\n",
              "      <th>75%</th>\n",
              "      <td>7.200000e+03</td>\n",
              "      <td>2008.000000</td>\n",
              "      <td>150.000000</td>\n",
              "      <td>150000.000000</td>\n",
              "      <td>9.000000</td>\n",
              "      <td>0.0</td>\n",
              "      <td>71540.000000</td>\n",
              "    </tr>\n",
              "    <tr>\n",
              "      <th>max</th>\n",
              "      <td>1.000000e+08</td>\n",
              "      <td>9999.000000</td>\n",
              "      <td>17700.000000</td>\n",
              "      <td>150000.000000</td>\n",
              "      <td>12.000000</td>\n",
              "      <td>0.0</td>\n",
              "      <td>99998.000000</td>\n",
              "    </tr>\n",
              "  </tbody>\n",
              "</table>\n",
              "</div>"
            ],
            "text/plain": [
              "              price  registration_year  ...  nr_of_pictures   postal_code\n",
              "count  5.000000e+04       50000.000000  ...         50000.0  50000.000000\n",
              "mean   9.840044e+03        2005.073280  ...             0.0  50813.627300\n",
              "std    4.811044e+05         105.712813  ...             0.0  25779.747957\n",
              "min    0.000000e+00        1000.000000  ...             0.0   1067.000000\n",
              "25%    1.100000e+03        1999.000000  ...             0.0  30451.000000\n",
              "50%    2.950000e+03        2003.000000  ...             0.0  49577.000000\n",
              "75%    7.200000e+03        2008.000000  ...             0.0  71540.000000\n",
              "max    1.000000e+08        9999.000000  ...             0.0  99998.000000\n",
              "\n",
              "[8 rows x 7 columns]"
            ]
          },
          "metadata": {
            "tags": []
          },
          "execution_count": 12
        }
      ]
    },
    {
      "cell_type": "markdown",
      "metadata": {
        "id": "uYz32FeAgEiF",
        "colab_type": "text"
      },
      "source": [
        "It is also found that the column ** \"postal_code\" ** should not be treated as a quantitative category because according to [Wikipedia](https://en.wikipedia.org/wiki/Postal_code), the postal code is a scheme that is assigned to different areas or places in a country, a code that serves to facilitate and mechanize the routing of a piece of mail.\n",
        "\n",
        "Exploring the numerical categories it can be seen that all the values of the column ** \"nr_of_pictures\" ** are zero.\n",
        "\n",
        "In the column **\"price\"** find as minimum value 0 and maximum $100 Millions. This requires inspection\n",
        "\n",
        "Column **\"registration_year\"** find as minimum year 1,000 and maximum 9,999. This requires inspection\n",
        "\n",
        "Column **\"power PS\"** find as minimum power is 0.0 PS. This requires inspection\n",
        "\n",
        "Column **\"registration_month\"**  find as minimum month 0 and maximum 12. This requires inspection\n",
        "\n",
        "It is still pending to decide what to do with the null values of the columns ** vehicleType, gearbox, model, fuelType ** and ** notRepairedDamage **, but most likely it will be kept because, despite not presenting all the information, they can be used to carry out analysis regarding the brand and dates.\n",
        "\n",
        "Finally, to finish cleaning the data, it would be necessary to convert german words to its english counterparts to easily the analizis"
      ]
    },
    {
      "cell_type": "markdown",
      "metadata": {
        "id": "OwaKbMh7gEiF",
        "colab_type": "text"
      },
      "source": [
        "**postal_code columns: numeric values to text**"
      ]
    },
    {
      "cell_type": "code",
      "metadata": {
        "id": "gCBliTJ-gEiF",
        "colab_type": "code",
        "colab": {
          "base_uri": "https://localhost:8080/",
          "height": 34
        },
        "outputId": "0720795d-b3f4-437b-c694-bac6e351e352"
      },
      "source": [
        "autos[\"postal_code\"] = autos[\"postal_code\"].astype(str)\n",
        "print(\"dtype column postal_code: \",autos[\"postal_code\"].dtypes)"
      ],
      "execution_count": null,
      "outputs": [
        {
          "output_type": "stream",
          "text": [
            "dtype column postal_code:  object\n"
          ],
          "name": "stdout"
        }
      ]
    },
    {
      "cell_type": "markdown",
      "metadata": {
        "id": "XEVKRSW2gEiH",
        "colab_type": "text"
      },
      "source": [
        "**Column \"price\":**\n",
        "\n",
        "About the prices you can see some values that look unrealistically high or low.\n",
        "\n",
        "About odometer the high or low values looks normal"
      ]
    },
    {
      "cell_type": "code",
      "metadata": {
        "id": "iBs9OdW5gEiH",
        "colab_type": "code",
        "colab": {
          "base_uri": "https://localhost:8080/",
          "height": 605
        },
        "outputId": "6e594619-0ca0-4e1b-da78-82805fc23f82"
      },
      "source": [
        "print(\"Top five cars prices:\\n\")\n",
        "print(autos[\"price\"].value_counts().sort_index(ascending=False).head(),\"\\n\")\n",
        "print(\"Bottom five prices cars:\\n\")\n",
        "print(autos[\"price\"].value_counts().sort_index(ascending=True).head(),\"\\n\")\n",
        "\n",
        "print(\"Top five odometer cars:\\n\")\n",
        "print(autos[\"odometer_km\"].value_counts().sort_index(ascending=False).head(),\"\\n\")\n",
        "print(\"Bottom five odometer cars:\\n\")\n",
        "print(autos[\"odometer_km\"].value_counts().sort_index(ascending=True).head())"
      ],
      "execution_count": null,
      "outputs": [
        {
          "output_type": "stream",
          "text": [
            "Top five cars prices:\n",
            "\n",
            "99999999.0    1\n",
            "27322222.0    1\n",
            "12345678.0    3\n",
            "11111111.0    2\n",
            "10000000.0    1\n",
            "Name: price, dtype: int64 \n",
            "\n",
            "Bottom five prices cars:\n",
            "\n",
            "0.0    1421\n",
            "1.0     156\n",
            "2.0       3\n",
            "3.0       1\n",
            "5.0       2\n",
            "Name: price, dtype: int64 \n",
            "\n",
            "Top five odometer cars:\n",
            "\n",
            "150000.0    32424\n",
            "125000.0     5170\n",
            "100000.0     2169\n",
            "90000.0      1757\n",
            "80000.0      1436\n",
            "Name: odometer_km, dtype: int64 \n",
            "\n",
            "Bottom five odometer cars:\n",
            "\n",
            "5000.0     967\n",
            "10000.0    264\n",
            "20000.0    784\n",
            "30000.0    789\n",
            "40000.0    819\n",
            "Name: odometer_km, dtype: int64\n"
          ],
          "name": "stdout"
        }
      ]
    },
    {
      "cell_type": "markdown",
      "metadata": {
        "id": "AzQO5TosgEiJ",
        "colab_type": "text"
      },
      "source": [
        "Atypical data are found in prices and it is decided to eliminate them so that the average price of used cars is not biased:\n",
        "\n",
        "**Only the values of the exterior and interior fences will be taken into account as of Q3 because from Q2 it does not make sense to consider values less than or equal to zero**\n",
        "\n",
        ">*1) Find the interquartile range.*\n",
        "\n",
        ">*2) Find the \"inner fences\" for the data set. *\n",
        "\n",
        ">*3) Find the \"outer fences\" for the data set. *\n"
      ]
    },
    {
      "cell_type": "code",
      "metadata": {
        "id": "VR8ZG9LvgEiK",
        "colab_type": "code",
        "colab": {
          "base_uri": "https://localhost:8080/",
          "height": 67
        },
        "outputId": "eba0804a-acdd-4b28-b5a2-76563d02bb5c"
      },
      "source": [
        "rangeQ = autos[\"price\"].quantile(q=0.75) - autos[\"price\"].quantile(q=0.25)\n",
        "print(\"Interquartile range: \",rangeQ)\n",
        "\n",
        "innerFences = rangeQ * 1.5\n",
        "inner_q3 = autos[\"price\"].quantile(q=0.75) + innerFences\n",
        "print(\"inner Q3: \",inner_q3)\n",
        "\n",
        "outerFences = rangeQ * 3\n",
        "outer_q3 = autos[\"price\"].quantile(q=0.75) + outerFences\n",
        "print(\"outer Q3: \",outer_q3)"
      ],
      "execution_count": null,
      "outputs": [
        {
          "output_type": "stream",
          "text": [
            "Interquartile range:  6100.0\n",
            "inner Q3:  16350.0\n",
            "outer Q3:  25500.0\n"
          ],
          "name": "stdout"
        }
      ]
    },
    {
      "cell_type": "markdown",
      "metadata": {
        "id": "ZwkjTyyKgEiM",
        "colab_type": "text"
      },
      "source": [
        "**5,205 rows were removed taking into account the price criteria between € 1 to € 16,350**\n",
        "\n",
        "Consider the statistical  descriptivo called the **coefficient of variation**. For this, I took into account the descriptive statistics of the result of selecting rows with prices from 1 to \"inner fence of Q3\". For this selection of data, the coefficient of variation is approximately 94%. As [coefficient of variation](https://es.wikipedia.org/wiki/Coeficiente_de_variaci%C3%B3n) is a relative interpretation of the degree of variability, regardless of the scale of the variable, I allowed a maximum coefficient of 100%. The CV tells us how representative the arithmetic mean of the data set is.\n",
        "\n"
      ]
    },
    {
      "cell_type": "markdown",
      "metadata": {
        "id": "cVteuBhugEiM",
        "colab_type": "text"
      },
      "source": [
        "*Quantitative data:*"
      ]
    },
    {
      "cell_type": "code",
      "metadata": {
        "id": "4Q8leqfIgEiM",
        "colab_type": "code",
        "colab": {
          "base_uri": "https://localhost:8080/",
          "height": 284
        },
        "outputId": "1af5fd4e-a474-4989-e417-18c064690858"
      },
      "source": [
        "autos_selected = autos[autos[\"price\"].between(1, 16350)].copy()\n",
        "autos_selected.describe()"
      ],
      "execution_count": null,
      "outputs": [
        {
          "output_type": "execute_result",
          "data": {
            "text/html": [
              "<div>\n",
              "<style scoped>\n",
              "    .dataframe tbody tr th:only-of-type {\n",
              "        vertical-align: middle;\n",
              "    }\n",
              "\n",
              "    .dataframe tbody tr th {\n",
              "        vertical-align: top;\n",
              "    }\n",
              "\n",
              "    .dataframe thead th {\n",
              "        text-align: right;\n",
              "    }\n",
              "</style>\n",
              "<table border=\"1\" class=\"dataframe\">\n",
              "  <thead>\n",
              "    <tr style=\"text-align: right;\">\n",
              "      <th></th>\n",
              "      <th>price</th>\n",
              "      <th>registration_year</th>\n",
              "      <th>power_PS</th>\n",
              "      <th>odometer_km</th>\n",
              "      <th>registration_month</th>\n",
              "      <th>nr_of_pictures</th>\n",
              "    </tr>\n",
              "  </thead>\n",
              "  <tbody>\n",
              "    <tr>\n",
              "      <th>count</th>\n",
              "      <td>44795.000000</td>\n",
              "      <td>44795.00000</td>\n",
              "      <td>44795.000000</td>\n",
              "      <td>44795.000000</td>\n",
              "      <td>44795.000000</td>\n",
              "      <td>44795.0</td>\n",
              "    </tr>\n",
              "    <tr>\n",
              "      <th>mean</th>\n",
              "      <td>4089.433620</td>\n",
              "      <td>2003.97339</td>\n",
              "      <td>109.394910</td>\n",
              "      <td>129762.361871</td>\n",
              "      <td>5.744012</td>\n",
              "      <td>0.0</td>\n",
              "    </tr>\n",
              "    <tr>\n",
              "      <th>std</th>\n",
              "      <td>3841.429247</td>\n",
              "      <td>74.81955</td>\n",
              "      <td>205.150622</td>\n",
              "      <td>36398.554742</td>\n",
              "      <td>3.707064</td>\n",
              "      <td>0.0</td>\n",
              "    </tr>\n",
              "    <tr>\n",
              "      <th>min</th>\n",
              "      <td>1.000000</td>\n",
              "      <td>1000.00000</td>\n",
              "      <td>0.000000</td>\n",
              "      <td>5000.000000</td>\n",
              "      <td>0.000000</td>\n",
              "      <td>0.0</td>\n",
              "    </tr>\n",
              "    <tr>\n",
              "      <th>25%</th>\n",
              "      <td>1150.000000</td>\n",
              "      <td>1999.00000</td>\n",
              "      <td>68.000000</td>\n",
              "      <td>125000.000000</td>\n",
              "      <td>3.000000</td>\n",
              "      <td>0.0</td>\n",
              "    </tr>\n",
              "    <tr>\n",
              "      <th>50%</th>\n",
              "      <td>2700.000000</td>\n",
              "      <td>2003.00000</td>\n",
              "      <td>102.000000</td>\n",
              "      <td>150000.000000</td>\n",
              "      <td>6.000000</td>\n",
              "      <td>0.0</td>\n",
              "    </tr>\n",
              "    <tr>\n",
              "      <th>75%</th>\n",
              "      <td>5999.000000</td>\n",
              "      <td>2007.00000</td>\n",
              "      <td>140.000000</td>\n",
              "      <td>150000.000000</td>\n",
              "      <td>9.000000</td>\n",
              "      <td>0.0</td>\n",
              "    </tr>\n",
              "    <tr>\n",
              "      <th>max</th>\n",
              "      <td>16350.000000</td>\n",
              "      <td>9999.00000</td>\n",
              "      <td>17700.000000</td>\n",
              "      <td>150000.000000</td>\n",
              "      <td>12.000000</td>\n",
              "      <td>0.0</td>\n",
              "    </tr>\n",
              "  </tbody>\n",
              "</table>\n",
              "</div>"
            ],
            "text/plain": [
              "              price  registration_year  ...  registration_month  nr_of_pictures\n",
              "count  44795.000000        44795.00000  ...        44795.000000         44795.0\n",
              "mean    4089.433620         2003.97339  ...            5.744012             0.0\n",
              "std     3841.429247           74.81955  ...            3.707064             0.0\n",
              "min        1.000000         1000.00000  ...            0.000000             0.0\n",
              "25%     1150.000000         1999.00000  ...            3.000000             0.0\n",
              "50%     2700.000000         2003.00000  ...            6.000000             0.0\n",
              "75%     5999.000000         2007.00000  ...            9.000000             0.0\n",
              "max    16350.000000         9999.00000  ...           12.000000             0.0\n",
              "\n",
              "[8 rows x 6 columns]"
            ]
          },
          "metadata": {
            "tags": []
          },
          "execution_count": 16
        }
      ]
    },
    {
      "cell_type": "markdown",
      "metadata": {
        "id": "Ktg6csYcgEiO",
        "colab_type": "text"
      },
      "source": [
        "*Qualitative data:*"
      ]
    },
    {
      "cell_type": "code",
      "metadata": {
        "scrolled": true,
        "id": "e3qTRvosgEiP",
        "colab_type": "code",
        "colab": {
          "base_uri": "https://localhost:8080/",
          "height": 219
        },
        "outputId": "cf5c1a5b-4f90-40c8-bd51-54aa0020cbe9"
      },
      "source": [
        "autos_selected.describe(include=['O'])"
      ],
      "execution_count": null,
      "outputs": [
        {
          "output_type": "execute_result",
          "data": {
            "text/html": [
              "<div>\n",
              "<style scoped>\n",
              "    .dataframe tbody tr th:only-of-type {\n",
              "        vertical-align: middle;\n",
              "    }\n",
              "\n",
              "    .dataframe tbody tr th {\n",
              "        vertical-align: top;\n",
              "    }\n",
              "\n",
              "    .dataframe thead th {\n",
              "        text-align: right;\n",
              "    }\n",
              "</style>\n",
              "<table border=\"1\" class=\"dataframe\">\n",
              "  <thead>\n",
              "    <tr style=\"text-align: right;\">\n",
              "      <th></th>\n",
              "      <th>date_crawled</th>\n",
              "      <th>name</th>\n",
              "      <th>seller</th>\n",
              "      <th>offer_type</th>\n",
              "      <th>abtest</th>\n",
              "      <th>vehicle_type</th>\n",
              "      <th>gearbox</th>\n",
              "      <th>model</th>\n",
              "      <th>fuel_type</th>\n",
              "      <th>brand</th>\n",
              "      <th>unrepaired_damage</th>\n",
              "      <th>ad_created</th>\n",
              "      <th>postal_code</th>\n",
              "      <th>last_seen</th>\n",
              "    </tr>\n",
              "  </thead>\n",
              "  <tbody>\n",
              "    <tr>\n",
              "      <th>count</th>\n",
              "      <td>44795</td>\n",
              "      <td>44795</td>\n",
              "      <td>44795</td>\n",
              "      <td>44795</td>\n",
              "      <td>44795</td>\n",
              "      <td>40304</td>\n",
              "      <td>42519</td>\n",
              "      <td>42474</td>\n",
              "      <td>40871</td>\n",
              "      <td>44795</td>\n",
              "      <td>35906</td>\n",
              "      <td>44795</td>\n",
              "      <td>44795</td>\n",
              "      <td>44795</td>\n",
              "    </tr>\n",
              "    <tr>\n",
              "      <th>unique</th>\n",
              "      <td>43358</td>\n",
              "      <td>34509</td>\n",
              "      <td>2</td>\n",
              "      <td>1</td>\n",
              "      <td>2</td>\n",
              "      <td>8</td>\n",
              "      <td>2</td>\n",
              "      <td>241</td>\n",
              "      <td>7</td>\n",
              "      <td>40</td>\n",
              "      <td>2</td>\n",
              "      <td>73</td>\n",
              "      <td>6831</td>\n",
              "      <td>36473</td>\n",
              "    </tr>\n",
              "    <tr>\n",
              "      <th>top</th>\n",
              "      <td>2016-03-19 17:36:18</td>\n",
              "      <td>Ford_Fiesta</td>\n",
              "      <td>privat</td>\n",
              "      <td>Angebot</td>\n",
              "      <td>test</td>\n",
              "      <td>limousine</td>\n",
              "      <td>manuell</td>\n",
              "      <td>golf</td>\n",
              "      <td>benzin</td>\n",
              "      <td>volkswagen</td>\n",
              "      <td>nein</td>\n",
              "      <td>2016-04-03 00:00:00</td>\n",
              "      <td>10115</td>\n",
              "      <td>2016-04-07 06:17:27</td>\n",
              "    </tr>\n",
              "    <tr>\n",
              "      <th>freq</th>\n",
              "      <td>3</td>\n",
              "      <td>76</td>\n",
              "      <td>44794</td>\n",
              "      <td>44795</td>\n",
              "      <td>23089</td>\n",
              "      <td>11620</td>\n",
              "      <td>34592</td>\n",
              "      <td>3676</td>\n",
              "      <td>27683</td>\n",
              "      <td>9687</td>\n",
              "      <td>31271</td>\n",
              "      <td>1738</td>\n",
              "      <td>103</td>\n",
              "      <td>8</td>\n",
              "    </tr>\n",
              "  </tbody>\n",
              "</table>\n",
              "</div>"
            ],
            "text/plain": [
              "               date_crawled         name  ... postal_code            last_seen\n",
              "count                 44795        44795  ...       44795                44795\n",
              "unique                43358        34509  ...        6831                36473\n",
              "top     2016-03-19 17:36:18  Ford_Fiesta  ...       10115  2016-04-07 06:17:27\n",
              "freq                      3           76  ...         103                    8\n",
              "\n",
              "[4 rows x 14 columns]"
            ]
          },
          "metadata": {
            "tags": []
          },
          "execution_count": 17
        }
      ]
    },
    {
      "cell_type": "markdown",
      "metadata": {
        "id": "CERLiFR5gEiQ",
        "colab_type": "text"
      },
      "source": [
        "**Null values (vehicle_type, gearbox, model, fuel_type and unrepaired_damage):**\n",
        "\n",
        "About Columns with null values I proceed to fill these with label \"Unknown\""
      ]
    },
    {
      "cell_type": "code",
      "metadata": {
        "id": "KH85aM0ugEiQ",
        "colab_type": "code",
        "colab": {}
      },
      "source": [
        "# autos_selected.loc[autos_selected[\"vehicle_type\"].isnull() == True,\"vehicle_type\"] = \"unkown\"\n",
        "# autos_selected.loc[autos_selected[\"gearbox\"].isnull() == True,\"gearbox\"] = \"unkown\"\n",
        "# autos_selected.loc[autos_selected[\"model\"].isnull() == True,\"model\"] = \"unkown\"\n",
        "# autos_selected.loc[autos_selected[\"fuel_type\"].isnull() == True,\"fuel_type\"] = \"unkown\"\n",
        "# autos_selected.loc[autos_selected[\"unrepaired_damage\"].isnull() == True,\"unrepaired_damage\"] = \"unkown\"\n",
        "\n",
        "#For more efficiency use method dt.fillna(\"Nan\",inplace = True)\n",
        "autos_selected.fillna(\"unkown\",inplace = True)"
      ],
      "execution_count": null,
      "outputs": []
    },
    {
      "cell_type": "code",
      "metadata": {
        "id": "8p17faJsgEiS",
        "colab_type": "code",
        "colab": {
          "base_uri": "https://localhost:8080/",
          "height": 219
        },
        "outputId": "f00ff65e-31fc-49be-f73c-ab3626529ec2"
      },
      "source": [
        "autos_selected.describe(include=['O'])"
      ],
      "execution_count": null,
      "outputs": [
        {
          "output_type": "execute_result",
          "data": {
            "text/html": [
              "<div>\n",
              "<style scoped>\n",
              "    .dataframe tbody tr th:only-of-type {\n",
              "        vertical-align: middle;\n",
              "    }\n",
              "\n",
              "    .dataframe tbody tr th {\n",
              "        vertical-align: top;\n",
              "    }\n",
              "\n",
              "    .dataframe thead th {\n",
              "        text-align: right;\n",
              "    }\n",
              "</style>\n",
              "<table border=\"1\" class=\"dataframe\">\n",
              "  <thead>\n",
              "    <tr style=\"text-align: right;\">\n",
              "      <th></th>\n",
              "      <th>date_crawled</th>\n",
              "      <th>name</th>\n",
              "      <th>seller</th>\n",
              "      <th>offer_type</th>\n",
              "      <th>abtest</th>\n",
              "      <th>vehicle_type</th>\n",
              "      <th>gearbox</th>\n",
              "      <th>model</th>\n",
              "      <th>fuel_type</th>\n",
              "      <th>brand</th>\n",
              "      <th>unrepaired_damage</th>\n",
              "      <th>ad_created</th>\n",
              "      <th>postal_code</th>\n",
              "      <th>last_seen</th>\n",
              "    </tr>\n",
              "  </thead>\n",
              "  <tbody>\n",
              "    <tr>\n",
              "      <th>count</th>\n",
              "      <td>44795</td>\n",
              "      <td>44795</td>\n",
              "      <td>44795</td>\n",
              "      <td>44795</td>\n",
              "      <td>44795</td>\n",
              "      <td>44795</td>\n",
              "      <td>44795</td>\n",
              "      <td>44795</td>\n",
              "      <td>44795</td>\n",
              "      <td>44795</td>\n",
              "      <td>44795</td>\n",
              "      <td>44795</td>\n",
              "      <td>44795</td>\n",
              "      <td>44795</td>\n",
              "    </tr>\n",
              "    <tr>\n",
              "      <th>unique</th>\n",
              "      <td>43358</td>\n",
              "      <td>34509</td>\n",
              "      <td>2</td>\n",
              "      <td>1</td>\n",
              "      <td>2</td>\n",
              "      <td>9</td>\n",
              "      <td>3</td>\n",
              "      <td>242</td>\n",
              "      <td>8</td>\n",
              "      <td>40</td>\n",
              "      <td>3</td>\n",
              "      <td>73</td>\n",
              "      <td>6831</td>\n",
              "      <td>36473</td>\n",
              "    </tr>\n",
              "    <tr>\n",
              "      <th>top</th>\n",
              "      <td>2016-03-19 17:36:18</td>\n",
              "      <td>Ford_Fiesta</td>\n",
              "      <td>privat</td>\n",
              "      <td>Angebot</td>\n",
              "      <td>test</td>\n",
              "      <td>limousine</td>\n",
              "      <td>manuell</td>\n",
              "      <td>golf</td>\n",
              "      <td>benzin</td>\n",
              "      <td>volkswagen</td>\n",
              "      <td>nein</td>\n",
              "      <td>2016-04-03 00:00:00</td>\n",
              "      <td>10115</td>\n",
              "      <td>2016-04-07 06:17:27</td>\n",
              "    </tr>\n",
              "    <tr>\n",
              "      <th>freq</th>\n",
              "      <td>3</td>\n",
              "      <td>76</td>\n",
              "      <td>44794</td>\n",
              "      <td>44795</td>\n",
              "      <td>23089</td>\n",
              "      <td>11620</td>\n",
              "      <td>34592</td>\n",
              "      <td>3676</td>\n",
              "      <td>27683</td>\n",
              "      <td>9687</td>\n",
              "      <td>31271</td>\n",
              "      <td>1738</td>\n",
              "      <td>103</td>\n",
              "      <td>8</td>\n",
              "    </tr>\n",
              "  </tbody>\n",
              "</table>\n",
              "</div>"
            ],
            "text/plain": [
              "               date_crawled         name  ... postal_code            last_seen\n",
              "count                 44795        44795  ...       44795                44795\n",
              "unique                43358        34509  ...        6831                36473\n",
              "top     2016-03-19 17:36:18  Ford_Fiesta  ...       10115  2016-04-07 06:17:27\n",
              "freq                      3           76  ...         103                    8\n",
              "\n",
              "[4 rows x 14 columns]"
            ]
          },
          "metadata": {
            "tags": []
          },
          "execution_count": 19
        }
      ]
    },
    {
      "cell_type": "markdown",
      "metadata": {
        "id": "9w_B_cYlgEiU",
        "colab_type": "text"
      },
      "source": [
        "**Date columns**\n",
        "\n",
        "This columns with format (**YY-MM-DD**)are identified as string values by pandas:\n",
        "- `date_crawled`: added by the crawler\n",
        "- `last_seen`: added by the crawler\n",
        "- `ad_created`: from the website\n",
        "\n",
        "This columns with format (**MM**  and **YY**) are represented as numeric values\n",
        "- `registration_month`: from the website\n",
        "- `registration_year`: from the website"
      ]
    },
    {
      "cell_type": "markdown",
      "metadata": {
        "id": "0_283gOJgEiU",
        "colab_type": "text"
      },
      "source": [
        "The sales ads select to the dataframe were published in the website from october 10th 2015 to april 7th 2016.\n",
        "\n",
        "This ads were crawler from march to april 2016."
      ]
    },
    {
      "cell_type": "code",
      "metadata": {
        "id": "hpQZzQ47gEiU",
        "colab_type": "code",
        "colab": {
          "base_uri": "https://localhost:8080/",
          "height": 235
        },
        "outputId": "bedc87f4-6681-42ea-cbae-a14b180230a0"
      },
      "source": [
        "print(autos_selected[\"ad_created\"].value_counts(normalize=True).sort_index(ascending=True).head(),'\\n')\n",
        "print(autos_selected[\"ad_created\"].value_counts(normalize=True).sort_index(ascending=True).tail())"
      ],
      "execution_count": null,
      "outputs": [
        {
          "output_type": "stream",
          "text": [
            "2015-08-10 00:00:00    0.000022\n",
            "2015-09-09 00:00:00    0.000022\n",
            "2015-11-10 00:00:00    0.000022\n",
            "2015-12-05 00:00:00    0.000022\n",
            "2015-12-30 00:00:00    0.000022\n",
            "Name: ad_created, dtype: float64 \n",
            "\n",
            "2016-04-03 00:00:00    0.038799\n",
            "2016-04-04 00:00:00    0.036701\n",
            "2016-04-05 00:00:00    0.011653\n",
            "2016-04-06 00:00:00    0.003237\n",
            "2016-04-07 00:00:00    0.001183\n",
            "Name: ad_created, dtype: float64\n"
          ],
          "name": "stdout"
        }
      ]
    },
    {
      "cell_type": "code",
      "metadata": {
        "id": "Krw1d8FvgEiW",
        "colab_type": "code",
        "colab": {
          "base_uri": "https://localhost:8080/",
          "height": 235
        },
        "outputId": "62f5f6d6-ab0b-47c3-a77e-ef930b98aa5a"
      },
      "source": [
        "print(autos_selected[\"date_crawled\"].value_counts(normalize=True).sort_index(ascending=True).head(),'\\n')\n",
        "print(autos_selected[\"date_crawled\"].value_counts(normalize=True).sort_index(ascending=True).tail())"
      ],
      "execution_count": null,
      "outputs": [
        {
          "output_type": "stream",
          "text": [
            "2016-03-05 14:06:30    0.000022\n",
            "2016-03-05 14:06:40    0.000022\n",
            "2016-03-05 14:07:04    0.000022\n",
            "2016-03-05 14:07:08    0.000022\n",
            "2016-03-05 14:07:21    0.000022\n",
            "Name: date_crawled, dtype: float64 \n",
            "\n",
            "2016-04-07 14:07:04    0.000022\n",
            "2016-04-07 14:30:09    0.000022\n",
            "2016-04-07 14:30:26    0.000022\n",
            "2016-04-07 14:36:44    0.000022\n",
            "2016-04-07 14:36:55    0.000022\n",
            "Name: date_crawled, dtype: float64\n"
          ],
          "name": "stdout"
        }
      ]
    },
    {
      "cell_type": "code",
      "metadata": {
        "id": "qGiWUFlhgEiZ",
        "colab_type": "code",
        "colab": {
          "base_uri": "https://localhost:8080/",
          "height": 235
        },
        "outputId": "ef22cf33-b9cf-4290-d262-32a11a2cbac3"
      },
      "source": [
        "print(autos_selected[\"last_seen\"].value_counts(normalize=True).sort_index(ascending=True).head(),'\\n')\n",
        "print(autos_selected[\"last_seen\"].value_counts(normalize=True).sort_index(ascending=True).tail())"
      ],
      "execution_count": null,
      "outputs": [
        {
          "output_type": "stream",
          "text": [
            "2016-03-05 14:45:46    0.000022\n",
            "2016-03-05 14:46:02    0.000022\n",
            "2016-03-05 14:49:34    0.000022\n",
            "2016-03-05 15:16:11    0.000022\n",
            "2016-03-05 15:16:47    0.000022\n",
            "Name: last_seen, dtype: float64 \n",
            "\n",
            "2016-04-07 14:58:44    0.000067\n",
            "2016-04-07 14:58:45    0.000022\n",
            "2016-04-07 14:58:46    0.000022\n",
            "2016-04-07 14:58:48    0.000067\n",
            "2016-04-07 14:58:50    0.000067\n",
            "Name: last_seen, dtype: float64\n"
          ],
          "name": "stdout"
        }
      ]
    },
    {
      "cell_type": "markdown",
      "metadata": {
        "id": "u7v_pJg_gEid",
        "colab_type": "text"
      },
      "source": [
        "About the year of car registration, the only values that should make sense are the years 1800 to 2016\n",
        "\n",
        "- There are Registration year from 2017 to 9999"
      ]
    },
    {
      "cell_type": "code",
      "metadata": {
        "id": "vXRipNYDgEie",
        "colab_type": "code",
        "colab": {
          "base_uri": "https://localhost:8080/",
          "height": 235
        },
        "outputId": "19c4ed37-40fd-4535-ab59-f99daeeb1137"
      },
      "source": [
        "autos_selected[\"registration_year\"].value_counts().sort_index(ascending = False).head(12)"
      ],
      "execution_count": null,
      "outputs": [
        {
          "output_type": "execute_result",
          "data": {
            "text/plain": [
              "9999       2\n",
              "8888       1\n",
              "5911       1\n",
              "5000       4\n",
              "4800       1\n",
              "4500       1\n",
              "4100       1\n",
              "2800       1\n",
              "2019       2\n",
              "2018     457\n",
              "2017    1360\n",
              "2016    1178\n",
              "Name: registration_year, dtype: int64"
            ]
          },
          "metadata": {
            "tags": []
          },
          "execution_count": 23
        }
      ]
    },
    {
      "cell_type": "markdown",
      "metadata": {
        "id": "EshRamClgEig",
        "colab_type": "text"
      },
      "source": [
        "- For below 1800 There are Registration year from 1000 to 1111"
      ]
    },
    {
      "cell_type": "code",
      "metadata": {
        "id": "T5oooDIJgEih",
        "colab_type": "code",
        "colab": {
          "base_uri": "https://localhost:8080/",
          "height": 168
        },
        "outputId": "11491176-cd42-4795-d7f3-2bfc043af1a1"
      },
      "source": [
        "autos_selected[\"registration_year\"].value_counts().sort_index(ascending = False).tail(8)"
      ],
      "execution_count": null,
      "outputs": [
        {
          "output_type": "execute_result",
          "data": {
            "text/plain": [
              "1937    3\n",
              "1934    2\n",
              "1929    1\n",
              "1910    5\n",
              "1800    2\n",
              "1111    1\n",
              "1001    1\n",
              "1000    1\n",
              "Name: registration_year, dtype: int64"
            ]
          },
          "metadata": {
            "tags": []
          },
          "execution_count": 24
        }
      ]
    },
    {
      "cell_type": "markdown",
      "metadata": {
        "id": "y7T46_GwgEii",
        "colab_type": "text"
      },
      "source": [
        "Dedicated to select the cars with registration from the year 1910 since the previous ones to this present uncertain information."
      ]
    },
    {
      "cell_type": "code",
      "metadata": {
        "scrolled": true,
        "id": "oOgGEJTCgEij",
        "colab_type": "code",
        "colab": {
          "base_uri": "https://localhost:8080/",
          "height": 225
        },
        "outputId": "df9c6d51-8b1e-4cb7-fad9-199c293725a3"
      },
      "source": [
        "autos_selected[[\"name\",\"registration_year\"]].sort_values(\"registration_year\").head(6)"
      ],
      "execution_count": null,
      "outputs": [
        {
          "output_type": "execute_result",
          "data": {
            "text/html": [
              "<div>\n",
              "<style scoped>\n",
              "    .dataframe tbody tr th:only-of-type {\n",
              "        vertical-align: middle;\n",
              "    }\n",
              "\n",
              "    .dataframe tbody tr th {\n",
              "        vertical-align: top;\n",
              "    }\n",
              "\n",
              "    .dataframe thead th {\n",
              "        text-align: right;\n",
              "    }\n",
              "</style>\n",
              "<table border=\"1\" class=\"dataframe\">\n",
              "  <thead>\n",
              "    <tr style=\"text-align: right;\">\n",
              "      <th></th>\n",
              "      <th>name</th>\n",
              "      <th>registration_year</th>\n",
              "    </tr>\n",
              "  </thead>\n",
              "  <tbody>\n",
              "    <tr>\n",
              "      <th>22316</th>\n",
              "      <td>VW_Kaefer.__Zwei_zum_Preis_von_einem.</td>\n",
              "      <td>1000</td>\n",
              "    </tr>\n",
              "    <tr>\n",
              "      <th>49283</th>\n",
              "      <td>Citroen_HY</td>\n",
              "      <td>1001</td>\n",
              "    </tr>\n",
              "    <tr>\n",
              "      <th>24511</th>\n",
              "      <td>Trabant__wartburg__Ostalgie</td>\n",
              "      <td>1111</td>\n",
              "    </tr>\n",
              "    <tr>\n",
              "      <th>32585</th>\n",
              "      <td>UNFAL_Auto</td>\n",
              "      <td>1800</td>\n",
              "    </tr>\n",
              "    <tr>\n",
              "      <th>10556</th>\n",
              "      <td>UNFAL_Auto</td>\n",
              "      <td>1800</td>\n",
              "    </tr>\n",
              "    <tr>\n",
              "      <th>45157</th>\n",
              "      <td>Motorhaube</td>\n",
              "      <td>1910</td>\n",
              "    </tr>\n",
              "  </tbody>\n",
              "</table>\n",
              "</div>"
            ],
            "text/plain": [
              "                                        name  registration_year\n",
              "22316  VW_Kaefer.__Zwei_zum_Preis_von_einem.               1000\n",
              "49283                             Citroen_HY               1001\n",
              "24511            Trabant__wartburg__Ostalgie               1111\n",
              "32585                             UNFAL_Auto               1800\n",
              "10556                             UNFAL_Auto               1800\n",
              "45157                             Motorhaube               1910"
            ]
          },
          "metadata": {
            "tags": []
          },
          "execution_count": 25
        }
      ]
    },
    {
      "cell_type": "markdown",
      "metadata": {
        "id": "0yEO_6ozgEil",
        "colab_type": "text"
      },
      "source": [
        "Rows selected:  42959\n",
        "\n",
        "Until now, the info removed from the dataframe corresponds to  7041  rows"
      ]
    },
    {
      "cell_type": "code",
      "metadata": {
        "id": "rj87C7qTgEil",
        "colab_type": "code",
        "colab": {}
      },
      "source": [
        "autos_selected = autos_selected[autos_selected[\"registration_year\"].between(1910, 2016)]"
      ],
      "execution_count": null,
      "outputs": []
    },
    {
      "cell_type": "markdown",
      "metadata": {
        "id": "4Afg5O3MgEio",
        "colab_type": "text"
      },
      "source": [
        "**Power PS equal to cero and months equal to cero**\n",
        "\n",
        "- Powers of 0 PS are meaningless for vehicles unless they correspond to vehicles without a motor. I decide to keep the ranges because I think they can still give me general pricing information, however I decide to tag these values with the tag \"unknown\" upon completion of the cleanup. For now I replace 0 PS with null values to be able to operate on the power_PS column.\n",
        "\n",
        "- Since the months range from 1 to 12, the months equal to zero I decide to label them as \"unknown\""
      ]
    },
    {
      "cell_type": "code",
      "metadata": {
        "id": "zD8K96bngEio",
        "colab_type": "code",
        "colab": {}
      },
      "source": [
        "autos_selected[\"power_PS\"] = autos_selected[\"power_PS\"].replace(0,np.nan)\n",
        "autos_selected[\"registration_month\"] = autos_selected[\"registration_month\"].replace(0,\"unknown\")"
      ],
      "execution_count": null,
      "outputs": []
    },
    {
      "cell_type": "markdown",
      "metadata": {
        "id": "82DqUU48gEiq",
        "colab_type": "text"
      },
      "source": [
        "**Seller and offerType**\n",
        "\n",
        "- Approximately 99% of used vehicles correspond to private sellers\n",
        "- 100% of offers correspond to Angebot\n",
        "- All used cars for sale have no image on their ad\n",
        "\n",
        "This information does not present considerable variability and for this reason I decide to remove these coolumns since they do not contribute anything significant to the analysis.\n"
      ]
    },
    {
      "cell_type": "code",
      "metadata": {
        "scrolled": true,
        "id": "rDSmy6BogEiq",
        "colab_type": "code",
        "colab": {
          "base_uri": "https://localhost:8080/",
          "height": 67
        },
        "outputId": "5c57e67d-ee19-40fe-ac9c-45b5bb994a56"
      },
      "source": [
        "autos_selected[\"seller\"].value_counts(normalize = True) "
      ],
      "execution_count": null,
      "outputs": [
        {
          "output_type": "execute_result",
          "data": {
            "text/plain": [
              "privat        0.999977\n",
              "gewerblich    0.000023\n",
              "Name: seller, dtype: float64"
            ]
          },
          "metadata": {
            "tags": []
          },
          "execution_count": 28
        }
      ]
    },
    {
      "cell_type": "code",
      "metadata": {
        "id": "m5IA207VgEis",
        "colab_type": "code",
        "colab": {
          "base_uri": "https://localhost:8080/",
          "height": 50
        },
        "outputId": "9e8e94aa-e64b-4408-b4c5-bd23371bd26b"
      },
      "source": [
        "autos_selected[\"offer_type\"].value_counts(normalize = True) "
      ],
      "execution_count": null,
      "outputs": [
        {
          "output_type": "execute_result",
          "data": {
            "text/plain": [
              "Angebot    1.0\n",
              "Name: offer_type, dtype: float64"
            ]
          },
          "metadata": {
            "tags": []
          },
          "execution_count": 29
        }
      ]
    },
    {
      "cell_type": "code",
      "metadata": {
        "id": "IUyDM_NOgEiu",
        "colab_type": "code",
        "colab": {
          "base_uri": "https://localhost:8080/",
          "height": 50
        },
        "outputId": "a7ec0268-84e9-4bea-9400-c8982def4ecc"
      },
      "source": [
        "autos_selected[\"nr_of_pictures\"].value_counts(normalize = True) "
      ],
      "execution_count": null,
      "outputs": [
        {
          "output_type": "execute_result",
          "data": {
            "text/plain": [
              "0    1.0\n",
              "Name: nr_of_pictures, dtype: float64"
            ]
          },
          "metadata": {
            "tags": []
          },
          "execution_count": 30
        }
      ]
    },
    {
      "cell_type": "code",
      "metadata": {
        "id": "z3W_M2mXgEiw",
        "colab_type": "code",
        "colab": {}
      },
      "source": [
        "autos_selected = autos_selected.drop([\"seller\",\"offer_type\",\"nr_of_pictures\"],axis = 1)"
      ],
      "execution_count": null,
      "outputs": []
    },
    {
      "cell_type": "code",
      "metadata": {
        "id": "qrER3MgXgEix",
        "colab_type": "code",
        "colab": {
          "base_uri": "https://localhost:8080/",
          "height": 383
        },
        "outputId": "dec23e27-d0ac-4d2d-a62e-1417cfb92e2b"
      },
      "source": [
        "autos_selected.head()"
      ],
      "execution_count": null,
      "outputs": [
        {
          "output_type": "execute_result",
          "data": {
            "text/html": [
              "<div>\n",
              "<style scoped>\n",
              "    .dataframe tbody tr th:only-of-type {\n",
              "        vertical-align: middle;\n",
              "    }\n",
              "\n",
              "    .dataframe tbody tr th {\n",
              "        vertical-align: top;\n",
              "    }\n",
              "\n",
              "    .dataframe thead th {\n",
              "        text-align: right;\n",
              "    }\n",
              "</style>\n",
              "<table border=\"1\" class=\"dataframe\">\n",
              "  <thead>\n",
              "    <tr style=\"text-align: right;\">\n",
              "      <th></th>\n",
              "      <th>date_crawled</th>\n",
              "      <th>name</th>\n",
              "      <th>price</th>\n",
              "      <th>abtest</th>\n",
              "      <th>vehicle_type</th>\n",
              "      <th>registration_year</th>\n",
              "      <th>gearbox</th>\n",
              "      <th>power_PS</th>\n",
              "      <th>model</th>\n",
              "      <th>odometer_km</th>\n",
              "      <th>registration_month</th>\n",
              "      <th>fuel_type</th>\n",
              "      <th>brand</th>\n",
              "      <th>unrepaired_damage</th>\n",
              "      <th>ad_created</th>\n",
              "      <th>postal_code</th>\n",
              "      <th>last_seen</th>\n",
              "    </tr>\n",
              "  </thead>\n",
              "  <tbody>\n",
              "    <tr>\n",
              "      <th>0</th>\n",
              "      <td>2016-03-26 17:47:46</td>\n",
              "      <td>Peugeot_807_160_NAVTECH_ON_BOARD</td>\n",
              "      <td>5000.0</td>\n",
              "      <td>control</td>\n",
              "      <td>bus</td>\n",
              "      <td>2004</td>\n",
              "      <td>manuell</td>\n",
              "      <td>158.0</td>\n",
              "      <td>andere</td>\n",
              "      <td>150000.0</td>\n",
              "      <td>3</td>\n",
              "      <td>lpg</td>\n",
              "      <td>peugeot</td>\n",
              "      <td>nein</td>\n",
              "      <td>2016-03-26 00:00:00</td>\n",
              "      <td>79588</td>\n",
              "      <td>2016-04-06 06:45:54</td>\n",
              "    </tr>\n",
              "    <tr>\n",
              "      <th>1</th>\n",
              "      <td>2016-04-04 13:38:56</td>\n",
              "      <td>BMW_740i_4_4_Liter_HAMANN_UMBAU_Mega_Optik</td>\n",
              "      <td>8500.0</td>\n",
              "      <td>control</td>\n",
              "      <td>limousine</td>\n",
              "      <td>1997</td>\n",
              "      <td>automatik</td>\n",
              "      <td>286.0</td>\n",
              "      <td>7er</td>\n",
              "      <td>150000.0</td>\n",
              "      <td>6</td>\n",
              "      <td>benzin</td>\n",
              "      <td>bmw</td>\n",
              "      <td>nein</td>\n",
              "      <td>2016-04-04 00:00:00</td>\n",
              "      <td>71034</td>\n",
              "      <td>2016-04-06 14:45:08</td>\n",
              "    </tr>\n",
              "    <tr>\n",
              "      <th>2</th>\n",
              "      <td>2016-03-26 18:57:24</td>\n",
              "      <td>Volkswagen_Golf_1.6_United</td>\n",
              "      <td>8990.0</td>\n",
              "      <td>test</td>\n",
              "      <td>limousine</td>\n",
              "      <td>2009</td>\n",
              "      <td>manuell</td>\n",
              "      <td>102.0</td>\n",
              "      <td>golf</td>\n",
              "      <td>70000.0</td>\n",
              "      <td>7</td>\n",
              "      <td>benzin</td>\n",
              "      <td>volkswagen</td>\n",
              "      <td>nein</td>\n",
              "      <td>2016-03-26 00:00:00</td>\n",
              "      <td>35394</td>\n",
              "      <td>2016-04-06 20:15:37</td>\n",
              "    </tr>\n",
              "    <tr>\n",
              "      <th>3</th>\n",
              "      <td>2016-03-12 16:58:10</td>\n",
              "      <td>Smart_smart_fortwo_coupe_softouch/F1/Klima/Pan...</td>\n",
              "      <td>4350.0</td>\n",
              "      <td>control</td>\n",
              "      <td>kleinwagen</td>\n",
              "      <td>2007</td>\n",
              "      <td>automatik</td>\n",
              "      <td>71.0</td>\n",
              "      <td>fortwo</td>\n",
              "      <td>70000.0</td>\n",
              "      <td>6</td>\n",
              "      <td>benzin</td>\n",
              "      <td>smart</td>\n",
              "      <td>nein</td>\n",
              "      <td>2016-03-12 00:00:00</td>\n",
              "      <td>33729</td>\n",
              "      <td>2016-03-15 03:16:28</td>\n",
              "    </tr>\n",
              "    <tr>\n",
              "      <th>4</th>\n",
              "      <td>2016-04-01 14:38:50</td>\n",
              "      <td>Ford_Focus_1_6_Benzin_TÜV_neu_ist_sehr_gepfleg...</td>\n",
              "      <td>1350.0</td>\n",
              "      <td>test</td>\n",
              "      <td>kombi</td>\n",
              "      <td>2003</td>\n",
              "      <td>manuell</td>\n",
              "      <td>NaN</td>\n",
              "      <td>focus</td>\n",
              "      <td>150000.0</td>\n",
              "      <td>7</td>\n",
              "      <td>benzin</td>\n",
              "      <td>ford</td>\n",
              "      <td>nein</td>\n",
              "      <td>2016-04-01 00:00:00</td>\n",
              "      <td>39218</td>\n",
              "      <td>2016-04-01 14:38:50</td>\n",
              "    </tr>\n",
              "  </tbody>\n",
              "</table>\n",
              "</div>"
            ],
            "text/plain": [
              "          date_crawled  ...            last_seen\n",
              "0  2016-03-26 17:47:46  ...  2016-04-06 06:45:54\n",
              "1  2016-04-04 13:38:56  ...  2016-04-06 14:45:08\n",
              "2  2016-03-26 18:57:24  ...  2016-04-06 20:15:37\n",
              "3  2016-03-12 16:58:10  ...  2016-03-15 03:16:28\n",
              "4  2016-04-01 14:38:50  ...  2016-04-01 14:38:50\n",
              "\n",
              "[5 rows x 17 columns]"
            ]
          },
          "metadata": {
            "tags": []
          },
          "execution_count": 32
        }
      ]
    },
    {
      "cell_type": "markdown",
      "metadata": {
        "id": "vUxA579ugEiz",
        "colab_type": "text"
      },
      "source": [
        "**Replace German words with English counterparts**\n",
        "\n",
        "I identify the German words that translated into English can facilitate analysis and proceed to replace"
      ]
    },
    {
      "cell_type": "code",
      "metadata": {
        "id": "t5e4Uih7gEiz",
        "colab_type": "code",
        "colab": {
          "base_uri": "https://localhost:8080/",
          "height": 118
        },
        "outputId": "1bae5c33-2c3a-4850-c3fe-c15bd25f64ff"
      },
      "source": [
        "print(autos_selected[\"abtest\"].unique())\n",
        "print(autos_selected[\"vehicle_type\"].unique())\n",
        "print(autos_selected[\"gearbox\"].unique())\n",
        "print(autos_selected[\"fuel_type\"].unique())\n",
        "print(autos_selected[\"unrepaired_damage\"].unique())"
      ],
      "execution_count": null,
      "outputs": [
        {
          "output_type": "stream",
          "text": [
            "['control' 'test']\n",
            "['bus' 'limousine' 'kleinwagen' 'kombi' 'unkown' 'coupe' 'suv' 'cabrio'\n",
            " 'andere']\n",
            "['manuell' 'automatik' 'unkown']\n",
            "['lpg' 'benzin' 'diesel' 'unkown' 'cng' 'hybrid' 'elektro' 'andere']\n",
            "['nein' 'unkown' 'ja']\n"
          ],
          "name": "stdout"
        }
      ]
    },
    {
      "cell_type": "code",
      "metadata": {
        "id": "Eh9qSfWLgEi1",
        "colab_type": "code",
        "colab": {}
      },
      "source": [
        "autos_selected = autos_selected.replace(\n",
        "{\n",
        "    'bus': 'bus',\n",
        "    'limousine': 'limousine',\n",
        "    'kleinwagen': 'small car',\n",
        "    'kombi': 'station wagon',\n",
        "    'coupe': 'coupe',\n",
        "    'suv': 'suv',\n",
        "    'cabrio': 'convertible',\n",
        "    'andere': 'others',\n",
        "    'manuell': 'manual',\n",
        "    'automatik': 'automatic',\n",
        "    'benzin': 'gasoline',\n",
        "    'elektro': 'electric',\n",
        "    'nein': 'no',\n",
        "    'unkown': 'unknown',\n",
        "    'ja': 'yes'\n",
        "})"
      ],
      "execution_count": null,
      "outputs": []
    },
    {
      "cell_type": "code",
      "metadata": {
        "id": "IgvMezP-gEi3",
        "colab_type": "code",
        "colab": {
          "base_uri": "https://localhost:8080/",
          "height": 202
        },
        "outputId": "954cd418-5390-448a-9a3f-c26b5efb310d"
      },
      "source": [
        "autos_selected[\"vehicle_type\"].head(10)"
      ],
      "execution_count": null,
      "outputs": [
        {
          "output_type": "execute_result",
          "data": {
            "text/plain": [
              "0              bus\n",
              "1        limousine\n",
              "2        limousine\n",
              "3        small car\n",
              "4    station wagon\n",
              "5              bus\n",
              "6        limousine\n",
              "7        limousine\n",
              "8          unknown\n",
              "9              bus\n",
              "Name: vehicle_type, dtype: object"
            ]
          },
          "metadata": {
            "tags": []
          },
          "execution_count": 35
        }
      ]
    },
    {
      "cell_type": "markdown",
      "metadata": {
        "id": "N7vb9IBogEi4",
        "colab_type": "text"
      },
      "source": [
        "# Exploration and analysis"
      ]
    },
    {
      "cell_type": "markdown",
      "metadata": {
        "id": "zTBm4AHwgEi4",
        "colab_type": "text"
      },
      "source": [
        "## **Registration year**\n",
        "\n",
        "The selection is verified with the column \"registration_year\" in ascending order, showing its first five rows and its last five rows."
      ]
    },
    {
      "cell_type": "code",
      "metadata": {
        "id": "BVg99aPlgEi5",
        "colab_type": "code",
        "colab": {
          "base_uri": "https://localhost:8080/"
        },
        "outputId": "a93a1e26-0d70-47d9-964b-df296614aea9"
      },
      "source": [
        "autos_selected[[\"name\",\"registration_year\"]].sort_values(\"registration_year\").head()"
      ],
      "execution_count": null,
      "outputs": [
        {
          "output_type": "execute_result",
          "data": {
            "text/html": [
              "<div>\n",
              "<style scoped>\n",
              "    .dataframe tbody tr th:only-of-type {\n",
              "        vertical-align: middle;\n",
              "    }\n",
              "\n",
              "    .dataframe tbody tr th {\n",
              "        vertical-align: top;\n",
              "    }\n",
              "\n",
              "    .dataframe thead th {\n",
              "        text-align: right;\n",
              "    }\n",
              "</style>\n",
              "<table border=\"1\" class=\"dataframe\">\n",
              "  <thead>\n",
              "    <tr style=\"text-align: right;\">\n",
              "      <th></th>\n",
              "      <th>name</th>\n",
              "      <th>registration_year</th>\n",
              "    </tr>\n",
              "  </thead>\n",
              "  <tbody>\n",
              "    <tr>\n",
              "      <th>45157</th>\n",
              "      <td>Motorhaube</td>\n",
              "      <td>1910</td>\n",
              "    </tr>\n",
              "    <tr>\n",
              "      <th>30781</th>\n",
              "      <td>Opel_Calibra_V6_DTM_Bausatz_1:24</td>\n",
              "      <td>1910</td>\n",
              "    </tr>\n",
              "    <tr>\n",
              "      <th>28693</th>\n",
              "      <td>Renault_Twingo</td>\n",
              "      <td>1910</td>\n",
              "    </tr>\n",
              "    <tr>\n",
              "      <th>22659</th>\n",
              "      <td>Opel_Corsa_B</td>\n",
              "      <td>1910</td>\n",
              "    </tr>\n",
              "    <tr>\n",
              "      <th>3679</th>\n",
              "      <td>Suche_Auto</td>\n",
              "      <td>1910</td>\n",
              "    </tr>\n",
              "  </tbody>\n",
              "</table>\n",
              "</div>"
            ],
            "text/plain": [
              "                                   name  registration_year\n",
              "45157                        Motorhaube               1910\n",
              "30781  Opel_Calibra_V6_DTM_Bausatz_1:24               1910\n",
              "28693                    Renault_Twingo               1910\n",
              "22659                      Opel_Corsa_B               1910\n",
              "3679                         Suche_Auto               1910"
            ]
          },
          "metadata": {
            "tags": []
          },
          "execution_count": 36
        }
      ]
    },
    {
      "cell_type": "code",
      "metadata": {
        "scrolled": true,
        "id": "F5BzBFr4gEi8",
        "colab_type": "code",
        "colab": {
          "base_uri": "https://localhost:8080/"
        },
        "outputId": "6d5b62ce-2250-4f63-afcd-ce00643b1617"
      },
      "source": [
        "autos_selected[[\"name\",\"registration_year\"]].sort_values(\"registration_year\").tail()"
      ],
      "execution_count": null,
      "outputs": [
        {
          "output_type": "execute_result",
          "data": {
            "text/html": [
              "<div>\n",
              "<style scoped>\n",
              "    .dataframe tbody tr th:only-of-type {\n",
              "        vertical-align: middle;\n",
              "    }\n",
              "\n",
              "    .dataframe tbody tr th {\n",
              "        vertical-align: top;\n",
              "    }\n",
              "\n",
              "    .dataframe thead th {\n",
              "        text-align: right;\n",
              "    }\n",
              "</style>\n",
              "<table border=\"1\" class=\"dataframe\">\n",
              "  <thead>\n",
              "    <tr style=\"text-align: right;\">\n",
              "      <th></th>\n",
              "      <th>name</th>\n",
              "      <th>registration_year</th>\n",
              "    </tr>\n",
              "  </thead>\n",
              "  <tbody>\n",
              "    <tr>\n",
              "      <th>41972</th>\n",
              "      <td>Ideales_Baustellenfahrzeug</td>\n",
              "      <td>2016</td>\n",
              "    </tr>\n",
              "    <tr>\n",
              "      <th>39929</th>\n",
              "      <td>BMW_316_i_compact_blau_99_Tuev_06/16</td>\n",
              "      <td>2016</td>\n",
              "    </tr>\n",
              "    <tr>\n",
              "      <th>32471</th>\n",
              "      <td>Verkaufe_opel_zafira_A</td>\n",
              "      <td>2016</td>\n",
              "    </tr>\n",
              "    <tr>\n",
              "      <th>23304</th>\n",
              "      <td>VK_MONDEO_MIT_TÜV_DEZ_2016</td>\n",
              "      <td>2016</td>\n",
              "    </tr>\n",
              "    <tr>\n",
              "      <th>25358</th>\n",
              "      <td>Audi_A6_2.7_Quattro_BiTurbo_230_Ps_Tuev</td>\n",
              "      <td>2016</td>\n",
              "    </tr>\n",
              "  </tbody>\n",
              "</table>\n",
              "</div>"
            ],
            "text/plain": [
              "                                          name  registration_year\n",
              "41972               Ideales_Baustellenfahrzeug               2016\n",
              "39929     BMW_316_i_compact_blau_99_Tuev_06/16               2016\n",
              "32471                   Verkaufe_opel_zafira_A               2016\n",
              "23304               VK_MONDEO_MIT_TÜV_DEZ_2016               2016\n",
              "25358  Audi_A6_2.7_Quattro_BiTurbo_230_Ps_Tuev               2016"
            ]
          },
          "metadata": {
            "tags": []
          },
          "execution_count": 37
        }
      ]
    },
    {
      "cell_type": "markdown",
      "metadata": {
        "id": "ngerH3omgEi_",
        "colab_type": "text"
      },
      "source": [
        "- Used cars for sale with registration year between 1910 and 2016, the highest frequency corresponds to those with registration year 2000 (approximately 7,3%)\n",
        "\n",
        "- 51% of used cars have their registration years between 1999 and 2006.\n"
      ]
    },
    {
      "cell_type": "code",
      "metadata": {
        "id": "Y88_QLGfgEi_",
        "colab_type": "code",
        "colab": {
          "base_uri": "https://localhost:8080/"
        },
        "outputId": "8979fd16-5f59-410f-af8c-a802b9d4b42e"
      },
      "source": [
        "print(autos_selected[\"registration_year\"].value_counts(normalize=True).head(8),'\\n')\n",
        "print(round(autos_selected[\"registration_year\"].value_counts(normalize=True).head(8).sum()*100,1),\"%\")"
      ],
      "execution_count": null,
      "outputs": [
        {
          "output_type": "stream",
          "text": [
            "2000    0.073140\n",
            "2005    0.067227\n",
            "1999    0.067227\n",
            "2003    0.062129\n",
            "2004    0.061920\n",
            "2001    0.060895\n",
            "2006    0.060127\n",
            "2002    0.057264\n",
            "Name: registration_year, dtype: float64 \n",
            "\n",
            "51.0 %\n"
          ],
          "name": "stdout"
        }
      ]
    },
    {
      "cell_type": "markdown",
      "metadata": {
        "id": "wUkYK47RgEjD",
        "colab_type": "text"
      },
      "source": [
        "## **Name and Brand**\n",
        "\n",
        "Top 5 mean price by brands"
      ]
    },
    {
      "cell_type": "code",
      "metadata": {
        "id": "TeY8C2hfgEjD",
        "colab_type": "code",
        "colab": {}
      },
      "source": [
        "brands = autos_selected[\"brand\"].unique()\n",
        "mean_brands = {}\n",
        "mean_mileage = {}\n",
        "mean_power_PS = {}\n",
        "\n",
        "for brand in brands:\n",
        "    row =  autos_selected[autos_selected[\"brand\"] == brand]\n",
        "    row_mean = row[\"price\"].mean()\n",
        "    row_mean_mileage = row[\"odometer_km\"].mean()\n",
        "    row_mean_power = row[\"power_PS\"].mean(skipna = True)\n",
        "    \n",
        "    mean_brands[brand] = (round(row_mean,2),round(row_mean_mileage,2),round(row_mean_power,2))\n",
        "    \n",
        "mean_price_top_brand = []\n",
        "\n",
        "    \n",
        "for k,v in mean_brands.items():\n",
        "    key_val_as_tuple = (mean_brands[k], k)\n",
        "    mean_price_top_brand.append(key_val_as_tuple)\n",
        "\n",
        "mean_price_top_brand = sorted(mean_price_top_brand, reverse = True)\n",
        "\n",
        "brand_ = []\n",
        "price_power = []\n",
        "\n",
        "for brand in mean_price_top_brand:\n",
        "    brand_.append(brand[1].capitalize())\n",
        "    price_power.append(brand[0])\n",
        "\n",
        "top_mean_prices_brands = pd.DataFrame(price_power,index = brand_,columns = [\"mean_price\",\"mean_mileage\",\"mean_power_PS\"])\n",
        "  "
      ],
      "execution_count": null,
      "outputs": []
    },
    {
      "cell_type": "markdown",
      "metadata": {
        "id": "CuaaEPjVgEjF",
        "colab_type": "text"
      },
      "source": [
        "**Regarding the price**\n",
        "\n",
        "- The maximum average to minimum average selling price by brand "
      ]
    },
    {
      "cell_type": "code",
      "metadata": {
        "id": "xWZcZDiJgEjF",
        "colab_type": "code",
        "colab": {
          "base_uri": "https://localhost:8080/",
          "height": 195
        },
        "outputId": "51875ff9-13b7-4b81-bcdb-885cf4f8a202"
      },
      "source": [
        "top_mean_prices_brands.head()"
      ],
      "execution_count": null,
      "outputs": [
        {
          "output_type": "execute_result",
          "data": {
            "text/html": [
              "<div>\n",
              "<style scoped>\n",
              "    .dataframe tbody tr th:only-of-type {\n",
              "        vertical-align: middle;\n",
              "    }\n",
              "\n",
              "    .dataframe tbody tr th {\n",
              "        vertical-align: top;\n",
              "    }\n",
              "\n",
              "    .dataframe thead th {\n",
              "        text-align: right;\n",
              "    }\n",
              "</style>\n",
              "<table border=\"1\" class=\"dataframe\">\n",
              "  <thead>\n",
              "    <tr style=\"text-align: right;\">\n",
              "      <th></th>\n",
              "      <th>mean_price</th>\n",
              "      <th>mean_mileage</th>\n",
              "      <th>mean_power_PS</th>\n",
              "    </tr>\n",
              "  </thead>\n",
              "  <tbody>\n",
              "    <tr>\n",
              "      <th>Porsche</th>\n",
              "      <td>9493.25</td>\n",
              "      <td>115555.56</td>\n",
              "      <td>246.25</td>\n",
              "    </tr>\n",
              "    <tr>\n",
              "      <th>Mini</th>\n",
              "      <td>8362.60</td>\n",
              "      <td>98663.66</td>\n",
              "      <td>123.49</td>\n",
              "    </tr>\n",
              "    <tr>\n",
              "      <th>Jeep</th>\n",
              "      <td>7172.62</td>\n",
              "      <td>140697.67</td>\n",
              "      <td>184.10</td>\n",
              "    </tr>\n",
              "    <tr>\n",
              "      <th>Land_rover</th>\n",
              "      <td>6605.80</td>\n",
              "      <td>141517.86</td>\n",
              "      <td>144.10</td>\n",
              "    </tr>\n",
              "    <tr>\n",
              "      <th>Dacia</th>\n",
              "      <td>5915.53</td>\n",
              "      <td>84268.29</td>\n",
              "      <td>89.04</td>\n",
              "    </tr>\n",
              "  </tbody>\n",
              "</table>\n",
              "</div>"
            ],
            "text/plain": [
              "            mean_price  mean_mileage  mean_power_PS\n",
              "Porsche        9493.25     115555.56         246.25\n",
              "Mini           8362.60      98663.66         123.49\n",
              "Jeep           7172.62     140697.67         184.10\n",
              "Land_rover     6605.80     141517.86         144.10\n",
              "Dacia          5915.53      84268.29          89.04"
            ]
          },
          "metadata": {
            "tags": []
          },
          "execution_count": 40
        }
      ]
    },
    {
      "cell_type": "code",
      "metadata": {
        "id": "Luxx3bLygEjH",
        "colab_type": "code",
        "colab": {
          "base_uri": "https://localhost:8080/",
          "height": 195
        },
        "outputId": "70735c87-4a54-429b-cd79-3be13ea19c03"
      },
      "source": [
        "top_mean_prices_brands.tail()"
      ],
      "execution_count": null,
      "outputs": [
        {
          "output_type": "execute_result",
          "data": {
            "text/html": [
              "<div>\n",
              "<style scoped>\n",
              "    .dataframe tbody tr th:only-of-type {\n",
              "        vertical-align: middle;\n",
              "    }\n",
              "\n",
              "    .dataframe tbody tr th {\n",
              "        vertical-align: top;\n",
              "    }\n",
              "\n",
              "    .dataframe thead th {\n",
              "        text-align: right;\n",
              "    }\n",
              "</style>\n",
              "<table border=\"1\" class=\"dataframe\">\n",
              "  <thead>\n",
              "    <tr style=\"text-align: right;\">\n",
              "      <th></th>\n",
              "      <th>mean_price</th>\n",
              "      <th>mean_mileage</th>\n",
              "      <th>mean_power_PS</th>\n",
              "    </tr>\n",
              "  </thead>\n",
              "  <tbody>\n",
              "    <tr>\n",
              "      <th>Renault</th>\n",
              "      <td>2281.46</td>\n",
              "      <td>128892.71</td>\n",
              "      <td>94.08</td>\n",
              "    </tr>\n",
              "    <tr>\n",
              "      <th>Trabant</th>\n",
              "      <td>1790.86</td>\n",
              "      <td>54538.46</td>\n",
              "      <td>27.65</td>\n",
              "    </tr>\n",
              "    <tr>\n",
              "      <th>Daihatsu</th>\n",
              "      <td>1636.20</td>\n",
              "      <td>116410.26</td>\n",
              "      <td>68.48</td>\n",
              "    </tr>\n",
              "    <tr>\n",
              "      <th>Rover</th>\n",
              "      <td>1243.31</td>\n",
              "      <td>137459.02</td>\n",
              "      <td>110.20</td>\n",
              "    </tr>\n",
              "    <tr>\n",
              "      <th>Daewoo</th>\n",
              "      <td>1049.00</td>\n",
              "      <td>121642.86</td>\n",
              "      <td>80.59</td>\n",
              "    </tr>\n",
              "  </tbody>\n",
              "</table>\n",
              "</div>"
            ],
            "text/plain": [
              "          mean_price  mean_mileage  mean_power_PS\n",
              "Renault      2281.46     128892.71          94.08\n",
              "Trabant      1790.86      54538.46          27.65\n",
              "Daihatsu     1636.20     116410.26          68.48\n",
              "Rover        1243.31     137459.02         110.20\n",
              "Daewoo       1049.00     121642.86          80.59"
            ]
          },
          "metadata": {
            "tags": []
          },
          "execution_count": 41
        }
      ]
    },
    {
      "cell_type": "markdown",
      "metadata": {
        "id": "8_kKWS1MgEjJ",
        "colab_type": "text"
      },
      "source": [
        "**Regarding the mileage:**\n",
        "- The highest mileage to the lowest-mileage "
      ]
    },
    {
      "cell_type": "code",
      "metadata": {
        "id": "helfnAW_gEjJ",
        "colab_type": "code",
        "colab": {
          "base_uri": "https://localhost:8080/",
          "height": 195
        },
        "outputId": "9db21fbb-f90c-404b-a888-68ef569e6bc3"
      },
      "source": [
        "top_mean_prices_brands.sort_values(\"mean_mileage\",ascending=False).head()"
      ],
      "execution_count": null,
      "outputs": [
        {
          "output_type": "execute_result",
          "data": {
            "text/html": [
              "<div>\n",
              "<style scoped>\n",
              "    .dataframe tbody tr th:only-of-type {\n",
              "        vertical-align: middle;\n",
              "    }\n",
              "\n",
              "    .dataframe tbody tr th {\n",
              "        vertical-align: top;\n",
              "    }\n",
              "\n",
              "    .dataframe thead th {\n",
              "        text-align: right;\n",
              "    }\n",
              "</style>\n",
              "<table border=\"1\" class=\"dataframe\">\n",
              "  <thead>\n",
              "    <tr style=\"text-align: right;\">\n",
              "      <th></th>\n",
              "      <th>mean_price</th>\n",
              "      <th>mean_mileage</th>\n",
              "      <th>mean_power_PS</th>\n",
              "    </tr>\n",
              "  </thead>\n",
              "  <tbody>\n",
              "    <tr>\n",
              "      <th>Saab</th>\n",
              "      <td>3005.22</td>\n",
              "      <td>145526.32</td>\n",
              "      <td>160.63</td>\n",
              "    </tr>\n",
              "    <tr>\n",
              "      <th>Land_rover</th>\n",
              "      <td>6605.80</td>\n",
              "      <td>141517.86</td>\n",
              "      <td>144.10</td>\n",
              "    </tr>\n",
              "    <tr>\n",
              "      <th>Volvo</th>\n",
              "      <td>3930.00</td>\n",
              "      <td>140810.47</td>\n",
              "      <td>152.24</td>\n",
              "    </tr>\n",
              "    <tr>\n",
              "      <th>Jeep</th>\n",
              "      <td>7172.62</td>\n",
              "      <td>140697.67</td>\n",
              "      <td>184.10</td>\n",
              "    </tr>\n",
              "    <tr>\n",
              "      <th>Audi</th>\n",
              "      <td>5703.90</td>\n",
              "      <td>139701.38</td>\n",
              "      <td>162.32</td>\n",
              "    </tr>\n",
              "  </tbody>\n",
              "</table>\n",
              "</div>"
            ],
            "text/plain": [
              "            mean_price  mean_mileage  mean_power_PS\n",
              "Saab           3005.22     145526.32         160.63\n",
              "Land_rover     6605.80     141517.86         144.10\n",
              "Volvo          3930.00     140810.47         152.24\n",
              "Jeep           7172.62     140697.67         184.10\n",
              "Audi           5703.90     139701.38         162.32"
            ]
          },
          "metadata": {
            "tags": []
          },
          "execution_count": 42
        }
      ]
    },
    {
      "cell_type": "code",
      "metadata": {
        "id": "JrIpxDxUgEjL",
        "colab_type": "code",
        "colab": {
          "base_uri": "https://localhost:8080/",
          "height": 195
        },
        "outputId": "abe2a1e3-5e5f-404d-f785-da19f8096f0c"
      },
      "source": [
        "top_mean_prices_brands.sort_values(\"mean_mileage\",ascending=False).tail()"
      ],
      "execution_count": null,
      "outputs": [
        {
          "output_type": "execute_result",
          "data": {
            "text/html": [
              "<div>\n",
              "<style scoped>\n",
              "    .dataframe tbody tr th:only-of-type {\n",
              "        vertical-align: middle;\n",
              "    }\n",
              "\n",
              "    .dataframe tbody tr th {\n",
              "        vertical-align: top;\n",
              "    }\n",
              "\n",
              "    .dataframe thead th {\n",
              "        text-align: right;\n",
              "    }\n",
              "</style>\n",
              "<table border=\"1\" class=\"dataframe\">\n",
              "  <thead>\n",
              "    <tr style=\"text-align: right;\">\n",
              "      <th></th>\n",
              "      <th>mean_price</th>\n",
              "      <th>mean_mileage</th>\n",
              "      <th>mean_power_PS</th>\n",
              "    </tr>\n",
              "  </thead>\n",
              "  <tbody>\n",
              "    <tr>\n",
              "      <th>Mini</th>\n",
              "      <td>8362.60</td>\n",
              "      <td>98663.66</td>\n",
              "      <td>123.49</td>\n",
              "    </tr>\n",
              "    <tr>\n",
              "      <th>Sonstige_autos</th>\n",
              "      <td>5605.35</td>\n",
              "      <td>94561.64</td>\n",
              "      <td>142.71</td>\n",
              "    </tr>\n",
              "    <tr>\n",
              "      <th>Dacia</th>\n",
              "      <td>5915.53</td>\n",
              "      <td>84268.29</td>\n",
              "      <td>89.04</td>\n",
              "    </tr>\n",
              "    <tr>\n",
              "      <th>Lada</th>\n",
              "      <td>2688.30</td>\n",
              "      <td>83518.52</td>\n",
              "      <td>76.05</td>\n",
              "    </tr>\n",
              "    <tr>\n",
              "      <th>Trabant</th>\n",
              "      <td>1790.86</td>\n",
              "      <td>54538.46</td>\n",
              "      <td>27.65</td>\n",
              "    </tr>\n",
              "  </tbody>\n",
              "</table>\n",
              "</div>"
            ],
            "text/plain": [
              "                mean_price  mean_mileage  mean_power_PS\n",
              "Mini               8362.60      98663.66         123.49\n",
              "Sonstige_autos     5605.35      94561.64         142.71\n",
              "Dacia              5915.53      84268.29          89.04\n",
              "Lada               2688.30      83518.52          76.05\n",
              "Trabant            1790.86      54538.46          27.65"
            ]
          },
          "metadata": {
            "tags": []
          },
          "execution_count": 43
        }
      ]
    },
    {
      "cell_type": "markdown",
      "metadata": {
        "id": "Nci_GfYQgEjN",
        "colab_type": "text"
      },
      "source": [
        "**Regarding the power PS**\n",
        "\n",
        "The PS power in the German metric system is the equivalent of the HP power in the English system where **1 PS = 0.9858 HP**\n",
        "\n",
        "- The highest power PS to the lowest power PS"
      ]
    },
    {
      "cell_type": "code",
      "metadata": {
        "id": "rF0jrleigEjN",
        "colab_type": "code",
        "colab": {
          "base_uri": "https://localhost:8080/",
          "height": 195
        },
        "outputId": "51473ec1-e6bf-436e-eec6-6bcd6dadc82f"
      },
      "source": [
        "top_mean_prices_brands.sort_values(\"mean_power_PS\",ascending=False).head()"
      ],
      "execution_count": null,
      "outputs": [
        {
          "output_type": "execute_result",
          "data": {
            "text/html": [
              "<div>\n",
              "<style scoped>\n",
              "    .dataframe tbody tr th:only-of-type {\n",
              "        vertical-align: middle;\n",
              "    }\n",
              "\n",
              "    .dataframe tbody tr th {\n",
              "        vertical-align: top;\n",
              "    }\n",
              "\n",
              "    .dataframe thead th {\n",
              "        text-align: right;\n",
              "    }\n",
              "</style>\n",
              "<table border=\"1\" class=\"dataframe\">\n",
              "  <thead>\n",
              "    <tr style=\"text-align: right;\">\n",
              "      <th></th>\n",
              "      <th>mean_price</th>\n",
              "      <th>mean_mileage</th>\n",
              "      <th>mean_power_PS</th>\n",
              "    </tr>\n",
              "  </thead>\n",
              "  <tbody>\n",
              "    <tr>\n",
              "      <th>Porsche</th>\n",
              "      <td>9493.25</td>\n",
              "      <td>115555.56</td>\n",
              "      <td>246.25</td>\n",
              "    </tr>\n",
              "    <tr>\n",
              "      <th>Jaguar</th>\n",
              "      <td>5610.72</td>\n",
              "      <td>138018.87</td>\n",
              "      <td>223.83</td>\n",
              "    </tr>\n",
              "    <tr>\n",
              "      <th>Jeep</th>\n",
              "      <td>7172.62</td>\n",
              "      <td>140697.67</td>\n",
              "      <td>184.10</td>\n",
              "    </tr>\n",
              "    <tr>\n",
              "      <th>Bmw</th>\n",
              "      <td>5649.20</td>\n",
              "      <td>138833.18</td>\n",
              "      <td>169.92</td>\n",
              "    </tr>\n",
              "    <tr>\n",
              "      <th>Audi</th>\n",
              "      <td>5703.90</td>\n",
              "      <td>139701.38</td>\n",
              "      <td>162.32</td>\n",
              "    </tr>\n",
              "  </tbody>\n",
              "</table>\n",
              "</div>"
            ],
            "text/plain": [
              "         mean_price  mean_mileage  mean_power_PS\n",
              "Porsche     9493.25     115555.56         246.25\n",
              "Jaguar      5610.72     138018.87         223.83\n",
              "Jeep        7172.62     140697.67         184.10\n",
              "Bmw         5649.20     138833.18         169.92\n",
              "Audi        5703.90     139701.38         162.32"
            ]
          },
          "metadata": {
            "tags": []
          },
          "execution_count": 44
        }
      ]
    },
    {
      "cell_type": "code",
      "metadata": {
        "id": "rQYrxawwgEjQ",
        "colab_type": "code",
        "colab": {
          "base_uri": "https://localhost:8080/",
          "height": 195
        },
        "outputId": "fcfaf2d0-9784-4cc3-e61d-d9831996026e"
      },
      "source": [
        "top_mean_prices_brands.sort_values(\"mean_power_PS\",ascending=False).tail()"
      ],
      "execution_count": null,
      "outputs": [
        {
          "output_type": "execute_result",
          "data": {
            "text/html": [
              "<div>\n",
              "<style scoped>\n",
              "    .dataframe tbody tr th:only-of-type {\n",
              "        vertical-align: middle;\n",
              "    }\n",
              "\n",
              "    .dataframe tbody tr th {\n",
              "        vertical-align: top;\n",
              "    }\n",
              "\n",
              "    .dataframe thead th {\n",
              "        text-align: right;\n",
              "    }\n",
              "</style>\n",
              "<table border=\"1\" class=\"dataframe\">\n",
              "  <thead>\n",
              "    <tr style=\"text-align: right;\">\n",
              "      <th></th>\n",
              "      <th>mean_price</th>\n",
              "      <th>mean_mileage</th>\n",
              "      <th>mean_power_PS</th>\n",
              "    </tr>\n",
              "  </thead>\n",
              "  <tbody>\n",
              "    <tr>\n",
              "      <th>Fiat</th>\n",
              "      <td>2740.82</td>\n",
              "      <td>117449.66</td>\n",
              "      <td>80.00</td>\n",
              "    </tr>\n",
              "    <tr>\n",
              "      <th>Lada</th>\n",
              "      <td>2688.30</td>\n",
              "      <td>83518.52</td>\n",
              "      <td>76.05</td>\n",
              "    </tr>\n",
              "    <tr>\n",
              "      <th>Smart</th>\n",
              "      <td>3560.12</td>\n",
              "      <td>99431.82</td>\n",
              "      <td>73.45</td>\n",
              "    </tr>\n",
              "    <tr>\n",
              "      <th>Daihatsu</th>\n",
              "      <td>1636.20</td>\n",
              "      <td>116410.26</td>\n",
              "      <td>68.48</td>\n",
              "    </tr>\n",
              "    <tr>\n",
              "      <th>Trabant</th>\n",
              "      <td>1790.86</td>\n",
              "      <td>54538.46</td>\n",
              "      <td>27.65</td>\n",
              "    </tr>\n",
              "  </tbody>\n",
              "</table>\n",
              "</div>"
            ],
            "text/plain": [
              "          mean_price  mean_mileage  mean_power_PS\n",
              "Fiat         2740.82     117449.66          80.00\n",
              "Lada         2688.30      83518.52          76.05\n",
              "Smart        3560.12      99431.82          73.45\n",
              "Daihatsu     1636.20     116410.26          68.48\n",
              "Trabant      1790.86      54538.46          27.65"
            ]
          },
          "metadata": {
            "tags": []
          },
          "execution_count": 45
        }
      ]
    },
    {
      "cell_type": "markdown",
      "metadata": {
        "id": "gHx9ROqvgEjS",
        "colab_type": "text"
      },
      "source": [
        "**Most common brand/model combinations**"
      ]
    },
    {
      "cell_type": "code",
      "metadata": {
        "id": "HQLwi4dagEjS",
        "colab_type": "code",
        "colab": {}
      },
      "source": [
        "brand_model = autos_selected[\"brand\"].str.capitalize() + \" \" + autos_selected[\"model\"]"
      ],
      "execution_count": null,
      "outputs": []
    },
    {
      "cell_type": "code",
      "metadata": {
        "id": "3xen0an9gEjU",
        "colab_type": "code",
        "colab": {
          "base_uri": "https://localhost:8080/",
          "height": 202
        },
        "outputId": "decce546-69e6-444d-9f47-7445e5395f3b"
      },
      "source": [
        "brand_model.value_counts().head(10)"
      ],
      "execution_count": null,
      "outputs": [
        {
          "output_type": "execute_result",
          "data": {
            "text/plain": [
              "Volkswagen golf           3487\n",
              "Bmw 3er                   2431\n",
              "Volkswagen polo           1604\n",
              "Opel corsa                1589\n",
              "Opel astra                1339\n",
              "Volkswagen passat         1299\n",
              "Audi a4                   1126\n",
              "Mercedes_benz c_klasse    1005\n",
              "Bmw 5er                    991\n",
              "Mercedes_benz e_klasse     813\n",
              "dtype: int64"
            ]
          },
          "metadata": {
            "tags": []
          },
          "execution_count": 47
        }
      ]
    },
    {
      "cell_type": "code",
      "metadata": {
        "id": "fOpOFMUhgEjW",
        "colab_type": "code",
        "colab": {
          "base_uri": "https://localhost:8080/",
          "height": 202
        },
        "outputId": "eca76b15-6d71-4b88-8453-6a01ad9443f1"
      },
      "source": [
        "brand_model.value_counts().tail(10)"
      ],
      "execution_count": null,
      "outputs": [
        {
          "output_type": "execute_result",
          "data": {
            "text/plain": [
              "Lancia kappa                     2\n",
              "Ford b_max                       1\n",
              "Bmw i3                           1\n",
              "Jaguar unknown                   1\n",
              "Land_rover unknown               1\n",
              "Audi 200                         1\n",
              "Land_rover others                1\n",
              "Volvo v60                        1\n",
              "Rover discovery                  1\n",
              "Land_rover range_rover_evoque    1\n",
              "dtype: int64"
            ]
          },
          "metadata": {
            "tags": []
          },
          "execution_count": 48
        }
      ]
    },
    {
      "cell_type": "markdown",
      "metadata": {
        "id": "vC2j0jz2gEjX",
        "colab_type": "text"
      },
      "source": [
        "**Most common brand/vehicle_type combinations**"
      ]
    },
    {
      "cell_type": "code",
      "metadata": {
        "id": "CntzrggrgEjY",
        "colab_type": "code",
        "colab": {}
      },
      "source": [
        "brand_vehicle = autos_selected[\"brand\"].str.capitalize() + \" \" + autos_selected[\"vehicle_type\"]"
      ],
      "execution_count": null,
      "outputs": []
    },
    {
      "cell_type": "code",
      "metadata": {
        "id": "QLP4zO-7gEjb",
        "colab_type": "code",
        "colab": {
          "base_uri": "https://localhost:8080/",
          "height": 202
        },
        "outputId": "3a49cc46-1f9e-4999-e3bd-86bd02969211"
      },
      "source": [
        "brand_vehicle.value_counts().head(10)"
      ],
      "execution_count": null,
      "outputs": [
        {
          "output_type": "execute_result",
          "data": {
            "text/plain": [
              "Volkswagen limousine        2472\n",
              "Volkswagen small car        2422\n",
              "Bmw limousine               2209\n",
              "Volkswagen station wagon    1673\n",
              "Mercedes_benz limousine     1660\n",
              "Opel small car              1604\n",
              "Audi station wagon          1330\n",
              "Audi limousine              1310\n",
              "Volkswagen bus              1176\n",
              "Opel limousine              1045\n",
              "dtype: int64"
            ]
          },
          "metadata": {
            "tags": []
          },
          "execution_count": 50
        }
      ]
    },
    {
      "cell_type": "code",
      "metadata": {
        "id": "RXjvUV7rgEjd",
        "colab_type": "code",
        "colab": {
          "base_uri": "https://localhost:8080/",
          "height": 370
        },
        "outputId": "4d0c1895-4328-49ce-a26b-ad560cd6516c"
      },
      "source": [
        "brand_vehicle.value_counts().tail(20)"
      ],
      "execution_count": null,
      "outputs": [
        {
          "output_type": "execute_result",
          "data": {
            "text/plain": [
              "Jaguar unknown              2\n",
              "Lada small car              1\n",
              "Smart others                1\n",
              "Saab suv                    1\n",
              "Skoda coupe                 1\n",
              "Land_rover station wagon    1\n",
              "Jeep convertible            1\n",
              "Rover others                1\n",
              "Fiat suv                    1\n",
              "Chrysler suv                1\n",
              "Land_rover convertible      1\n",
              "Lada convertible            1\n",
              "Volvo small car             1\n",
              "Saab others                 1\n",
              "Lancia coupe                1\n",
              "Subaru others               1\n",
              "Suzuki coupe                1\n",
              "Skoda convertible           1\n",
              "Smart station wagon         1\n",
              "Lada unknown                1\n",
              "dtype: int64"
            ]
          },
          "metadata": {
            "tags": []
          },
          "execution_count": 51
        }
      ]
    },
    {
      "cell_type": "markdown",
      "metadata": {
        "id": "i1QVTS90gEje",
        "colab_type": "text"
      },
      "source": [
        "**Average price by vehicle type**"
      ]
    },
    {
      "cell_type": "code",
      "metadata": {
        "id": "jBY05p-wgEje",
        "colab_type": "code",
        "colab": {}
      },
      "source": [
        "price_type = autos_selected[[\"vehicle_type\",\"price\"]] "
      ],
      "execution_count": null,
      "outputs": []
    },
    {
      "cell_type": "code",
      "metadata": {
        "id": "3pDhTOP6gEjf",
        "colab_type": "code",
        "colab": {}
      },
      "source": [
        "price_type[\"vehicle_type\"].value_counts().sum()\n",
        "mean_price_type = {}\n",
        "\n",
        "for vehicle in price_type[\"vehicle_type\"].unique():\n",
        "    vehicle_ = price_type[price_type[\"vehicle_type\"] == vehicle]\n",
        "    type_mean = vehicle_[\"price\"].mean()\n",
        "    mean_price_type[vehicle] = round(type_mean,2)\n",
        "\n",
        "mean_price_top_type = []\n",
        "    \n",
        "for k,v in mean_price_type.items():\n",
        "    key_val_as_tuple = (mean_price_type[k], k)\n",
        "    mean_price_top_type.append(key_val_as_tuple)\n",
        "\n",
        "mean_price_top_type = sorted(mean_price_top_type, reverse = True)\n",
        "\n",
        "vehicle_type = []\n",
        "price_ = []\n",
        "\n",
        "for vehicle in mean_price_top_type:\n",
        "    vehicle_type.append(vehicle[1].capitalize())\n",
        "    price_.append(vehicle[0])\n",
        "\n",
        "top_mean_prices_vehicle_type = pd.DataFrame(price_,index = vehicle_type,columns = [\"mean_price\"])"
      ],
      "execution_count": null,
      "outputs": []
    },
    {
      "cell_type": "code",
      "metadata": {
        "id": "FN9_IZokgEjh",
        "colab_type": "code",
        "colab": {
          "base_uri": "https://localhost:8080/",
          "height": 314
        },
        "outputId": "b1a23ddf-4f1d-422b-9b53-e884c9a6a9df"
      },
      "source": [
        "top_mean_prices_vehicle_type"
      ],
      "execution_count": null,
      "outputs": [
        {
          "output_type": "execute_result",
          "data": {
            "text/html": [
              "<div>\n",
              "<style scoped>\n",
              "    .dataframe tbody tr th:only-of-type {\n",
              "        vertical-align: middle;\n",
              "    }\n",
              "\n",
              "    .dataframe tbody tr th {\n",
              "        vertical-align: top;\n",
              "    }\n",
              "\n",
              "    .dataframe thead th {\n",
              "        text-align: right;\n",
              "    }\n",
              "</style>\n",
              "<table border=\"1\" class=\"dataframe\">\n",
              "  <thead>\n",
              "    <tr style=\"text-align: right;\">\n",
              "      <th></th>\n",
              "      <th>mean_price</th>\n",
              "    </tr>\n",
              "  </thead>\n",
              "  <tbody>\n",
              "    <tr>\n",
              "      <th>Suv</th>\n",
              "      <td>7804.64</td>\n",
              "    </tr>\n",
              "    <tr>\n",
              "      <th>Convertible</th>\n",
              "      <td>6029.57</td>\n",
              "    </tr>\n",
              "    <tr>\n",
              "      <th>Coupe</th>\n",
              "      <td>5180.17</td>\n",
              "    </tr>\n",
              "    <tr>\n",
              "      <th>Bus</th>\n",
              "      <td>5054.19</td>\n",
              "    </tr>\n",
              "    <tr>\n",
              "      <th>Station wagon</th>\n",
              "      <td>4535.59</td>\n",
              "    </tr>\n",
              "    <tr>\n",
              "      <th>Limousine</th>\n",
              "      <td>4389.17</td>\n",
              "    </tr>\n",
              "    <tr>\n",
              "      <th>Others</th>\n",
              "      <td>3594.67</td>\n",
              "    </tr>\n",
              "    <tr>\n",
              "      <th>Small car</th>\n",
              "      <td>2619.65</td>\n",
              "    </tr>\n",
              "    <tr>\n",
              "      <th>Unknown</th>\n",
              "      <td>2028.37</td>\n",
              "    </tr>\n",
              "  </tbody>\n",
              "</table>\n",
              "</div>"
            ],
            "text/plain": [
              "               mean_price\n",
              "Suv               7804.64\n",
              "Convertible       6029.57\n",
              "Coupe             5180.17\n",
              "Bus               5054.19\n",
              "Station wagon     4535.59\n",
              "Limousine         4389.17\n",
              "Others            3594.67\n",
              "Small car         2619.65\n",
              "Unknown           2028.37"
            ]
          },
          "metadata": {
            "tags": []
          },
          "execution_count": 54
        }
      ]
    },
    {
      "cell_type": "markdown",
      "metadata": {
        "id": "SmwXHhURgEji",
        "colab_type": "text"
      },
      "source": [
        "**How much cheaper are cars with damage than their non-damaged counterparts**"
      ]
    },
    {
      "cell_type": "code",
      "metadata": {
        "id": "LQdVD-SRgEji",
        "colab_type": "code",
        "colab": {
          "base_uri": "https://localhost:8080/",
          "height": 67
        },
        "outputId": "5766ed02-26c4-48f9-bbd0-4ce19067d0f0"
      },
      "source": [
        "unrepaired_damage = round(autos_selected[autos_selected[\"unrepaired_damage\"] == \"no\"][\"price\"].mean(),2)\n",
        "repaired_damage = round(autos_selected[autos_selected[\"unrepaired_damage\"] == \"yes\"][\"price\"].mean(),2)\n",
        "unknown_repaired = round(autos_selected[autos_selected[\"unrepaired_damage\"] == \"unknown\"][\"price\"].mean(),2)\n",
        "\n",
        "print(\"Average price for used vehicles with unrepaired damage: €\",unrepaired_damage)\n",
        "print(\"Average price for used vehicles with repaired damage: €\",repaired_damage)\n",
        "print(\"Average price for used vehicles with unknown repaired damage: €\",unknown_repaired)"
      ],
      "execution_count": null,
      "outputs": [
        {
          "output_type": "stream",
          "text": [
            "Average price for used vehicles with unrepaired damage: € 4851.27\n",
            "Average price for used vehicles with repaired damage: € 1972.5\n",
            "Average price for used vehicles with unknown repaired damage: € 2619.24\n"
          ],
          "name": "stdout"
        }
      ]
    },
    {
      "cell_type": "markdown",
      "metadata": {
        "id": "XlhTXwqTgEjk",
        "colab_type": "text"
      },
      "source": [
        "**At the end of the cleanup, I store the processed data frame in .csv format as this could do further analysis without requiring the cleanup process again.**"
      ]
    },
    {
      "cell_type": "code",
      "metadata": {
        "id": "jPwlf8N1gEjk",
        "colab_type": "code",
        "colab": {}
      },
      "source": [
        "autos_selected[\"power_PS\"] = autos_selected[\"power_PS\"].replace(0,\"unknown\")\n",
        "autos_selected.to_csv('autos_clean.csv', index=False)"
      ],
      "execution_count": null,
      "outputs": []
    },
    {
      "cell_type": "markdown",
      "metadata": {
        "id": "4DTRqbwYgEjl",
        "colab_type": "text"
      },
      "source": [
        "**I encountered a certain error with the names, visible in the .csv format, this is that some names have characters \",\" or \";\" (delimiters) that when exporting in .csv format make their corresponding information move between columns. So I decided to replace those characters in the names with underscores.**"
      ]
    },
    {
      "cell_type": "code",
      "metadata": {
        "id": "5tfx043-gEjm",
        "colab_type": "code",
        "colab": {}
      },
      "source": [
        "autos_selected[\"name\"] = autos_selected[\"name\"].replace(\";\",\"_\").replace(\",\",\"_\")\n",
        "autos_selected.to_csv('autos_clean.csv', index=False)"
      ],
      "execution_count": null,
      "outputs": []
    },
    {
      "cell_type": "code",
      "metadata": {
        "id": "lbO5ame6jNRs",
        "colab_type": "code",
        "colab": {
          "base_uri": "https://localhost:8080/",
          "height": 758
        },
        "outputId": "9d5e6964-0521-4982-85ff-efd8b16950b0"
      },
      "source": [
        "autos_selected"
      ],
      "execution_count": null,
      "outputs": [
        {
          "output_type": "execute_result",
          "data": {
            "text/html": [
              "<div>\n",
              "<style scoped>\n",
              "    .dataframe tbody tr th:only-of-type {\n",
              "        vertical-align: middle;\n",
              "    }\n",
              "\n",
              "    .dataframe tbody tr th {\n",
              "        vertical-align: top;\n",
              "    }\n",
              "\n",
              "    .dataframe thead th {\n",
              "        text-align: right;\n",
              "    }\n",
              "</style>\n",
              "<table border=\"1\" class=\"dataframe\">\n",
              "  <thead>\n",
              "    <tr style=\"text-align: right;\">\n",
              "      <th></th>\n",
              "      <th>date_crawled</th>\n",
              "      <th>name</th>\n",
              "      <th>price</th>\n",
              "      <th>abtest</th>\n",
              "      <th>vehicle_type</th>\n",
              "      <th>registration_year</th>\n",
              "      <th>gearbox</th>\n",
              "      <th>power_PS</th>\n",
              "      <th>model</th>\n",
              "      <th>odometer_km</th>\n",
              "      <th>registration_month</th>\n",
              "      <th>fuel_type</th>\n",
              "      <th>brand</th>\n",
              "      <th>unrepaired_damage</th>\n",
              "      <th>ad_created</th>\n",
              "      <th>postal_code</th>\n",
              "      <th>last_seen</th>\n",
              "    </tr>\n",
              "  </thead>\n",
              "  <tbody>\n",
              "    <tr>\n",
              "      <th>0</th>\n",
              "      <td>2016-03-26 17:47:46</td>\n",
              "      <td>Peugeot_807_160_NAVTECH_ON_BOARD</td>\n",
              "      <td>5000.0</td>\n",
              "      <td>control</td>\n",
              "      <td>bus</td>\n",
              "      <td>2004</td>\n",
              "      <td>manual</td>\n",
              "      <td>158.0</td>\n",
              "      <td>others</td>\n",
              "      <td>150000.0</td>\n",
              "      <td>3</td>\n",
              "      <td>lpg</td>\n",
              "      <td>peugeot</td>\n",
              "      <td>no</td>\n",
              "      <td>2016-03-26 00:00:00</td>\n",
              "      <td>79588</td>\n",
              "      <td>2016-04-06 06:45:54</td>\n",
              "    </tr>\n",
              "    <tr>\n",
              "      <th>1</th>\n",
              "      <td>2016-04-04 13:38:56</td>\n",
              "      <td>BMW_740i_4_4_Liter_HAMANN_UMBAU_Mega_Optik</td>\n",
              "      <td>8500.0</td>\n",
              "      <td>control</td>\n",
              "      <td>limousine</td>\n",
              "      <td>1997</td>\n",
              "      <td>automatic</td>\n",
              "      <td>286.0</td>\n",
              "      <td>7er</td>\n",
              "      <td>150000.0</td>\n",
              "      <td>6</td>\n",
              "      <td>gasoline</td>\n",
              "      <td>bmw</td>\n",
              "      <td>no</td>\n",
              "      <td>2016-04-04 00:00:00</td>\n",
              "      <td>71034</td>\n",
              "      <td>2016-04-06 14:45:08</td>\n",
              "    </tr>\n",
              "    <tr>\n",
              "      <th>2</th>\n",
              "      <td>2016-03-26 18:57:24</td>\n",
              "      <td>Volkswagen_Golf_1.6_United</td>\n",
              "      <td>8990.0</td>\n",
              "      <td>test</td>\n",
              "      <td>limousine</td>\n",
              "      <td>2009</td>\n",
              "      <td>manual</td>\n",
              "      <td>102.0</td>\n",
              "      <td>golf</td>\n",
              "      <td>70000.0</td>\n",
              "      <td>7</td>\n",
              "      <td>gasoline</td>\n",
              "      <td>volkswagen</td>\n",
              "      <td>no</td>\n",
              "      <td>2016-03-26 00:00:00</td>\n",
              "      <td>35394</td>\n",
              "      <td>2016-04-06 20:15:37</td>\n",
              "    </tr>\n",
              "    <tr>\n",
              "      <th>3</th>\n",
              "      <td>2016-03-12 16:58:10</td>\n",
              "      <td>Smart_smart_fortwo_coupe_softouch/F1/Klima/Pan...</td>\n",
              "      <td>4350.0</td>\n",
              "      <td>control</td>\n",
              "      <td>small car</td>\n",
              "      <td>2007</td>\n",
              "      <td>automatic</td>\n",
              "      <td>71.0</td>\n",
              "      <td>fortwo</td>\n",
              "      <td>70000.0</td>\n",
              "      <td>6</td>\n",
              "      <td>gasoline</td>\n",
              "      <td>smart</td>\n",
              "      <td>no</td>\n",
              "      <td>2016-03-12 00:00:00</td>\n",
              "      <td>33729</td>\n",
              "      <td>2016-03-15 03:16:28</td>\n",
              "    </tr>\n",
              "    <tr>\n",
              "      <th>4</th>\n",
              "      <td>2016-04-01 14:38:50</td>\n",
              "      <td>Ford_Focus_1_6_Benzin_TÜV_neu_ist_sehr_gepfleg...</td>\n",
              "      <td>1350.0</td>\n",
              "      <td>test</td>\n",
              "      <td>station wagon</td>\n",
              "      <td>2003</td>\n",
              "      <td>manual</td>\n",
              "      <td>NaN</td>\n",
              "      <td>focus</td>\n",
              "      <td>150000.0</td>\n",
              "      <td>7</td>\n",
              "      <td>gasoline</td>\n",
              "      <td>ford</td>\n",
              "      <td>no</td>\n",
              "      <td>2016-04-01 00:00:00</td>\n",
              "      <td>39218</td>\n",
              "      <td>2016-04-01 14:38:50</td>\n",
              "    </tr>\n",
              "    <tr>\n",
              "      <th>...</th>\n",
              "      <td>...</td>\n",
              "      <td>...</td>\n",
              "      <td>...</td>\n",
              "      <td>...</td>\n",
              "      <td>...</td>\n",
              "      <td>...</td>\n",
              "      <td>...</td>\n",
              "      <td>...</td>\n",
              "      <td>...</td>\n",
              "      <td>...</td>\n",
              "      <td>...</td>\n",
              "      <td>...</td>\n",
              "      <td>...</td>\n",
              "      <td>...</td>\n",
              "      <td>...</td>\n",
              "      <td>...</td>\n",
              "      <td>...</td>\n",
              "    </tr>\n",
              "    <tr>\n",
              "      <th>49993</th>\n",
              "      <td>2016-03-15 18:47:35</td>\n",
              "      <td>Audi_A3__1_8l__Silber;_schoenes_Fahrzeug</td>\n",
              "      <td>1650.0</td>\n",
              "      <td>control</td>\n",
              "      <td>small car</td>\n",
              "      <td>1997</td>\n",
              "      <td>manual</td>\n",
              "      <td>NaN</td>\n",
              "      <td>unknown</td>\n",
              "      <td>150000.0</td>\n",
              "      <td>7</td>\n",
              "      <td>gasoline</td>\n",
              "      <td>audi</td>\n",
              "      <td>unknown</td>\n",
              "      <td>2016-03-15 00:00:00</td>\n",
              "      <td>65203</td>\n",
              "      <td>2016-04-06 19:46:53</td>\n",
              "    </tr>\n",
              "    <tr>\n",
              "      <th>49994</th>\n",
              "      <td>2016-03-22 17:36:42</td>\n",
              "      <td>Audi_A6__S6__Avant_4.2_quattro_eventuell_Tausc...</td>\n",
              "      <td>5000.0</td>\n",
              "      <td>control</td>\n",
              "      <td>station wagon</td>\n",
              "      <td>2001</td>\n",
              "      <td>automatic</td>\n",
              "      <td>299.0</td>\n",
              "      <td>a6</td>\n",
              "      <td>150000.0</td>\n",
              "      <td>1</td>\n",
              "      <td>gasoline</td>\n",
              "      <td>audi</td>\n",
              "      <td>no</td>\n",
              "      <td>2016-03-22 00:00:00</td>\n",
              "      <td>46537</td>\n",
              "      <td>2016-04-06 08:16:39</td>\n",
              "    </tr>\n",
              "    <tr>\n",
              "      <th>49996</th>\n",
              "      <td>2016-03-28 10:50:25</td>\n",
              "      <td>Opel_Astra_F_Cabrio_Bertone_Edition___TÜV_neu+...</td>\n",
              "      <td>1980.0</td>\n",
              "      <td>control</td>\n",
              "      <td>convertible</td>\n",
              "      <td>1996</td>\n",
              "      <td>manual</td>\n",
              "      <td>75.0</td>\n",
              "      <td>astra</td>\n",
              "      <td>150000.0</td>\n",
              "      <td>5</td>\n",
              "      <td>gasoline</td>\n",
              "      <td>opel</td>\n",
              "      <td>no</td>\n",
              "      <td>2016-03-28 00:00:00</td>\n",
              "      <td>44807</td>\n",
              "      <td>2016-04-02 14:18:02</td>\n",
              "    </tr>\n",
              "    <tr>\n",
              "      <th>49997</th>\n",
              "      <td>2016-04-02 14:44:48</td>\n",
              "      <td>Fiat_500_C_1.2_Dualogic_Lounge</td>\n",
              "      <td>13200.0</td>\n",
              "      <td>test</td>\n",
              "      <td>convertible</td>\n",
              "      <td>2014</td>\n",
              "      <td>automatic</td>\n",
              "      <td>69.0</td>\n",
              "      <td>500</td>\n",
              "      <td>5000.0</td>\n",
              "      <td>11</td>\n",
              "      <td>gasoline</td>\n",
              "      <td>fiat</td>\n",
              "      <td>no</td>\n",
              "      <td>2016-04-02 00:00:00</td>\n",
              "      <td>73430</td>\n",
              "      <td>2016-04-04 11:47:27</td>\n",
              "    </tr>\n",
              "    <tr>\n",
              "      <th>49999</th>\n",
              "      <td>2016-03-14 00:42:12</td>\n",
              "      <td>Opel_Vectra_1.6_16V</td>\n",
              "      <td>1250.0</td>\n",
              "      <td>control</td>\n",
              "      <td>limousine</td>\n",
              "      <td>1996</td>\n",
              "      <td>manual</td>\n",
              "      <td>101.0</td>\n",
              "      <td>vectra</td>\n",
              "      <td>150000.0</td>\n",
              "      <td>1</td>\n",
              "      <td>gasoline</td>\n",
              "      <td>opel</td>\n",
              "      <td>no</td>\n",
              "      <td>2016-03-13 00:00:00</td>\n",
              "      <td>45897</td>\n",
              "      <td>2016-04-06 21:18:48</td>\n",
              "    </tr>\n",
              "  </tbody>\n",
              "</table>\n",
              "<p>42959 rows × 17 columns</p>\n",
              "</div>"
            ],
            "text/plain": [
              "              date_crawled  ...            last_seen\n",
              "0      2016-03-26 17:47:46  ...  2016-04-06 06:45:54\n",
              "1      2016-04-04 13:38:56  ...  2016-04-06 14:45:08\n",
              "2      2016-03-26 18:57:24  ...  2016-04-06 20:15:37\n",
              "3      2016-03-12 16:58:10  ...  2016-03-15 03:16:28\n",
              "4      2016-04-01 14:38:50  ...  2016-04-01 14:38:50\n",
              "...                    ...  ...                  ...\n",
              "49993  2016-03-15 18:47:35  ...  2016-04-06 19:46:53\n",
              "49994  2016-03-22 17:36:42  ...  2016-04-06 08:16:39\n",
              "49996  2016-03-28 10:50:25  ...  2016-04-02 14:18:02\n",
              "49997  2016-04-02 14:44:48  ...  2016-04-04 11:47:27\n",
              "49999  2016-03-14 00:42:12  ...  2016-04-06 21:18:48\n",
              "\n",
              "[42959 rows x 17 columns]"
            ]
          },
          "metadata": {
            "tags": []
          },
          "execution_count": 58
        }
      ]
    },
    {
      "cell_type": "markdown",
      "metadata": {
        "id": "9AECyoLRgEjn",
        "colab_type": "text"
      },
      "source": [
        "# Conclusion"
      ]
    },
    {
      "cell_type": "markdown",
      "metadata": {
        "id": "ULIXR6FCgEjn",
        "colab_type": "text"
      },
      "source": [
        "- Used cars for sale with registration year between 1910 and 2016, the highest frequency corresponds to those with registration year 2000 (approximately 7,3%). Most used cars for sale (51%) have their registration years between 1999 and 2006.\n",
        "\n",
        "\n",
        "- The maximum average selling price by brand corresponds to Porsche brand vehicles with an average value of € 9,493.25. The minimum average selling price by brand corresponds to Daewoo brand vehicles with an average value of € 1,049.00.\n",
        "\n",
        "\n",
        "- The highest mileage used cars are Saab brand with 145,526.32 km average. The lowest-mileage used cars are from the Trabant brand with an average of 54,538.46 km\n",
        "\n",
        "\n",
        "- The highest power used cars are Porsche brand with 246.25 PS average. The lowest power used cars are Trabant brand with 27.65 PS average.\n",
        "\n",
        "\n",
        "- The brands by most common model is Volkswagen golf with 3487 cars. The Less common brands by model are Volvo v60, Land Rover others, Audi 200, Bmw i3, Rover discovery, Jaguar unknown, Land_rover unknown, Land_rover range_rover_evoque and Ford b_max.\n",
        "\n",
        "\n",
        "- The most common brand by vehicle type are Volkswagen limousines. The least common brands by vehicle type are Saab others, Land_rover convertible, Smart station wagon, Land_rover station wagon, Subaru others, Skoda convertible, Suzuki coupe, Saab suv, Lancia coupe, Lada small car, Volvo small car, Chrysler suv, Smart others, Lada unknown, Rover others, Lada convertible, Jeep convertible, Fiat suv and Skoda coupe.\n",
        "\n",
        "\n",
        "- The highest average price per vehicle type corresponds to \"Sub\" vehicle type with € 7,804.64. The lowest average price per vehicle type corresponds to Unknown Car type vehicles with € 2,028.37.\n",
        "\n",
        "\n",
        "- Vehicles with unrepaired damage are sold on average at a price 2.5 higher than the price of vehicles with repaired damage.Vehicles with unknown damage or repairs have an average price of € 2,619.24."
      ]
    }
  ]
}